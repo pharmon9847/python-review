{
 "cells": [
  {
   "cell_type": "code",
   "execution_count": 1,
   "id": "90a922fb",
   "metadata": {
    "ExecuteTime": {
     "end_time": "2024-01-22T14:09:38.124426Z",
     "start_time": "2024-01-22T14:09:38.121924Z"
    }
   },
   "outputs": [],
   "source": [
    "# #############################################################################################################"
   ]
  },
  {
   "cell_type": "code",
   "execution_count": 2,
   "id": "e372e2f4",
   "metadata": {
    "ExecuteTime": {
     "end_time": "2024-01-22T14:10:05.988399Z",
     "start_time": "2024-01-22T14:10:05.986105Z"
    }
   },
   "outputs": [],
   "source": [
    "# --------------------------------FOR LOOPS--------------------------------------------\n",
    "# ------------------------------------------------------------------------------------"
   ]
  },
  {
   "cell_type": "code",
   "execution_count": 4,
   "id": "bd9d45c1",
   "metadata": {
    "ExecuteTime": {
     "end_time": "2024-01-22T14:12:38.328307Z",
     "start_time": "2024-01-22T14:12:38.325182Z"
    }
   },
   "outputs": [
    {
     "name": "stdout",
     "output_type": "stream",
     "text": [
      "I love to eat a Twix\n",
      "I love to eat a Snickers\n",
      "I love to eat a Mr. Goodbar\n"
     ]
    }
   ],
   "source": [
    "for snack in ['Twix', 'Snickers', 'Mr. Goodbar']:\n",
    "    print('I love to eat a', snack)"
   ]
  },
  {
   "cell_type": "code",
   "execution_count": 5,
   "id": "613aadbb",
   "metadata": {
    "ExecuteTime": {
     "end_time": "2024-01-22T14:14:29.380817Z",
     "start_time": "2024-01-22T14:14:29.376531Z"
    }
   },
   "outputs": [
    {
     "name": "stdout",
     "output_type": "stream",
     "text": [
      "a\n",
      "b\n",
      "c\n",
      "d\n",
      "e\n",
      "f\n",
      "g\n",
      "h\n",
      "i\n",
      "j\n",
      "k\n",
      "l\n",
      "m\n",
      "n\n",
      "o\n",
      "p\n",
      "q\n",
      "r\n",
      "s\n",
      "t\n",
      "u\n",
      "v\n",
      "w\n",
      "x\n",
      "y\n",
      "z\n"
     ]
    }
   ],
   "source": [
    "for letter in 'abcdefghijklmnopqrstuvwxyz':\n",
    "    print(letter)"
   ]
  },
  {
   "cell_type": "code",
   "execution_count": 6,
   "id": "0602effa",
   "metadata": {
    "ExecuteTime": {
     "end_time": "2024-01-22T14:19:09.148725Z",
     "start_time": "2024-01-22T14:19:09.146153Z"
    }
   },
   "outputs": [],
   "source": [
    "# #############################################################################################################"
   ]
  },
  {
   "cell_type": "code",
   "execution_count": 7,
   "id": "fe137e24",
   "metadata": {
    "ExecuteTime": {
     "end_time": "2024-01-22T14:19:26.985991Z",
     "start_time": "2024-01-22T14:19:26.983532Z"
    }
   },
   "outputs": [],
   "source": [
    "# --------------------------------RANGES--------------------------------------------\n",
    "# ------------------------------------------------------------------------------------"
   ]
  },
  {
   "cell_type": "code",
   "execution_count": 8,
   "id": "1888a35e",
   "metadata": {
    "ExecuteTime": {
     "end_time": "2024-01-22T14:20:04.349398Z",
     "start_time": "2024-01-22T14:20:04.346437Z"
    }
   },
   "outputs": [
    {
     "name": "stdout",
     "output_type": "stream",
     "text": [
      "0\n",
      "1\n",
      "2\n",
      "3\n",
      "4\n"
     ]
    }
   ],
   "source": [
    "for num in range(5):\n",
    "    print(num)"
   ]
  },
  {
   "cell_type": "code",
   "execution_count": 9,
   "id": "fc2eeab2",
   "metadata": {
    "ExecuteTime": {
     "end_time": "2024-01-22T14:22:26.370877Z",
     "start_time": "2024-01-22T14:22:26.364453Z"
    }
   },
   "outputs": [
    {
     "data": {
      "text/plain": [
       "[0, 1, 2, 3, 4, 5, 6, 7, 8, 9]"
      ]
     },
     "execution_count": 9,
     "metadata": {},
     "output_type": "execute_result"
    }
   ],
   "source": [
    "list(range(10))"
   ]
  },
  {
   "cell_type": "code",
   "execution_count": 10,
   "id": "651deb76",
   "metadata": {
    "ExecuteTime": {
     "end_time": "2024-01-22T14:23:05.987299Z",
     "start_time": "2024-01-22T14:23:05.983210Z"
    }
   },
   "outputs": [
    {
     "data": {
      "text/plain": [
       "[5, 6, 7, 8, 9]"
      ]
     },
     "execution_count": 10,
     "metadata": {},
     "output_type": "execute_result"
    }
   ],
   "source": [
    "list(range(5,10))"
   ]
  },
  {
   "cell_type": "code",
   "execution_count": 11,
   "id": "dbddf71f",
   "metadata": {
    "ExecuteTime": {
     "end_time": "2024-01-22T14:23:46.136033Z",
     "start_time": "2024-01-22T14:23:46.132608Z"
    }
   },
   "outputs": [
    {
     "data": {
      "text/plain": [
       "[-100, -90, -80, -70, -60, -50, -40, -30, -20, -10]"
      ]
     },
     "execution_count": 11,
     "metadata": {},
     "output_type": "execute_result"
    }
   ],
   "source": [
    "list(range(-100,0,10))"
   ]
  },
  {
   "cell_type": "code",
   "execution_count": 12,
   "id": "677a650a",
   "metadata": {
    "ExecuteTime": {
     "end_time": "2024-01-22T14:25:26.377571Z",
     "start_time": "2024-01-22T14:25:26.373426Z"
    }
   },
   "outputs": [
    {
     "data": {
      "text/plain": [
       "[10, 9, 8, 7, 6, 5, 4, 3, 2, 1]"
      ]
     },
     "execution_count": 12,
     "metadata": {},
     "output_type": "execute_result"
    }
   ],
   "source": [
    "list(range(10,0,-1))"
   ]
  },
  {
   "cell_type": "code",
   "execution_count": 13,
   "id": "a3b3eeee",
   "metadata": {
    "ExecuteTime": {
     "end_time": "2024-01-22T14:26:28.064318Z",
     "start_time": "2024-01-22T14:26:28.061608Z"
    }
   },
   "outputs": [],
   "source": [
    "# #############################################################################################################"
   ]
  },
  {
   "cell_type": "code",
   "execution_count": 14,
   "id": "df58f33d",
   "metadata": {
    "ExecuteTime": {
     "end_time": "2024-01-22T14:26:43.815330Z",
     "start_time": "2024-01-22T14:26:43.812829Z"
    }
   },
   "outputs": [],
   "source": [
    "# --------------------------------FUNCTIONS--------------------------------------------\n",
    "# ------------------------------------------------------------------------------------"
   ]
  },
  {
   "cell_type": "code",
   "execution_count": 15,
   "id": "1db14151",
   "metadata": {
    "ExecuteTime": {
     "end_time": "2024-01-22T14:28:20.260770Z",
     "start_time": "2024-01-22T14:28:20.255993Z"
    }
   },
   "outputs": [
    {
     "name": "stdout",
     "output_type": "stream",
     "text": [
      "doin math, dog!\n"
     ]
    },
    {
     "data": {
      "text/plain": [
       "10"
      ]
     },
     "execution_count": 15,
     "metadata": {},
     "output_type": "execute_result"
    }
   ],
   "source": [
    "def add_numbers(a,b):\n",
    "    sum = a + b\n",
    "    print('doin math, dog!')\n",
    "    return sum\n",
    "\n",
    "add_numbers(5,5)"
   ]
  },
  {
   "cell_type": "code",
   "execution_count": 16,
   "id": "6d929912",
   "metadata": {
    "ExecuteTime": {
     "end_time": "2024-01-22T14:29:40.569855Z",
     "start_time": "2024-01-22T14:29:40.566290Z"
    }
   },
   "outputs": [
    {
     "data": {
      "text/plain": [
       "'Hello there, Sup Dog!'"
      ]
     },
     "execution_count": 16,
     "metadata": {},
     "output_type": "execute_result"
    }
   ],
   "source": [
    "def greet(person):\n",
    "    return(f'Hello there, {person}!')\n",
    "\n",
    "greet('Sup Dog')"
   ]
  },
  {
   "cell_type": "code",
   "execution_count": 22,
   "id": "aaa9cb99",
   "metadata": {
    "ExecuteTime": {
     "end_time": "2024-01-22T14:44:08.849053Z",
     "start_time": "2024-01-22T14:44:08.846112Z"
    }
   },
   "outputs": [],
   "source": [
    "def divide(a,b):\n",
    "    if type(a) is int and type(b) is int:\n",
    "        return a / b\n",
    "    return 'a and b must be integers'"
   ]
  },
  {
   "cell_type": "code",
   "execution_count": 23,
   "id": "09fb5d93",
   "metadata": {
    "ExecuteTime": {
     "end_time": "2024-01-22T14:44:21.299144Z",
     "start_time": "2024-01-22T14:44:21.295674Z"
    }
   },
   "outputs": [
    {
     "data": {
      "text/plain": [
       "5.0"
      ]
     },
     "execution_count": 23,
     "metadata": {},
     "output_type": "execute_result"
    }
   ],
   "source": [
    "divide(10,2)"
   ]
  },
  {
   "cell_type": "code",
   "execution_count": 25,
   "id": "cb59ac63",
   "metadata": {
    "ExecuteTime": {
     "end_time": "2024-01-22T14:45:06.096696Z",
     "start_time": "2024-01-22T14:45:06.092427Z"
    }
   },
   "outputs": [
    {
     "data": {
      "text/plain": [
       "'a and b must be integers'"
      ]
     },
     "execution_count": 25,
     "metadata": {},
     "output_type": "execute_result"
    }
   ],
   "source": [
    "divide(10,'c')"
   ]
  },
  {
   "cell_type": "code",
   "execution_count": 26,
   "id": "7c128da6",
   "metadata": {
    "ExecuteTime": {
     "end_time": "2024-01-22T14:46:55.508061Z",
     "start_time": "2024-01-22T14:46:55.505661Z"
    }
   },
   "outputs": [],
   "source": [
    "# #############################################################################################################"
   ]
  },
  {
   "cell_type": "code",
   "execution_count": 27,
   "id": "9b8da2e7",
   "metadata": {
    "ExecuteTime": {
     "end_time": "2024-01-22T14:47:18.555031Z",
     "start_time": "2024-01-22T14:47:18.552359Z"
    }
   },
   "outputs": [],
   "source": [
    "# --------------------------------FUNCTION ARGUMENTS--------------------------------------------\n",
    "# ------------------------------------------------------------------------------------"
   ]
  },
  {
   "cell_type": "code",
   "execution_count": 28,
   "id": "00a1643f",
   "metadata": {
    "ExecuteTime": {
     "end_time": "2024-01-22T14:53:40.751955Z",
     "start_time": "2024-01-22T14:53:40.748725Z"
    }
   },
   "outputs": [],
   "source": [
    "def send_email(to_email, from_email, subject, body):\n",
    "    email = f'''\n",
    "        to: {to_email}\n",
    "        from: {from_email}\n",
    "        subject: {subject}\n",
    "        ------------------\n",
    "        body: {body}\n",
    "    '''\n",
    "    print(email)"
   ]
  },
  {
   "cell_type": "code",
   "execution_count": 29,
   "id": "09c0e0f4",
   "metadata": {
    "ExecuteTime": {
     "end_time": "2024-01-22T14:55:00.022583Z",
     "start_time": "2024-01-22T14:55:00.018689Z"
    }
   },
   "outputs": [
    {
     "name": "stdout",
     "output_type": "stream",
     "text": [
      "\n",
      "        to: dog@sup.com\n",
      "        from: sup@dog.com\n",
      "        subject: sup dog?!\n",
      "        ------------------\n",
      "        body: What's good wicha?!\n",
      "    \n"
     ]
    }
   ],
   "source": [
    "send_email(subject='sup dog?!', to_email='dog@sup.com', from_email='sup@dog.com', body=\"What's good wicha?!\")"
   ]
  },
  {
   "cell_type": "code",
   "execution_count": null,
   "id": "e4be1b62",
   "metadata": {},
   "outputs": [],
   "source": []
  }
 ],
 "metadata": {
  "kernelspec": {
   "display_name": "Python 3 (ipykernel)",
   "language": "python",
   "name": "python3"
  },
  "language_info": {
   "codemirror_mode": {
    "name": "ipython",
    "version": 3
   },
   "file_extension": ".py",
   "mimetype": "text/x-python",
   "name": "python",
   "nbconvert_exporter": "python",
   "pygments_lexer": "ipython3",
   "version": "3.11.5"
  },
  "varInspector": {
   "cols": {
    "lenName": 16,
    "lenType": 16,
    "lenVar": 40
   },
   "kernels_config": {
    "python": {
     "delete_cmd_postfix": "",
     "delete_cmd_prefix": "del ",
     "library": "var_list.py",
     "varRefreshCmd": "print(var_dic_list())"
    },
    "r": {
     "delete_cmd_postfix": ") ",
     "delete_cmd_prefix": "rm(",
     "library": "var_list.r",
     "varRefreshCmd": "cat(var_dic_list()) "
    }
   },
   "types_to_exclude": [
    "module",
    "function",
    "builtin_function_or_method",
    "instance",
    "_Feature"
   ],
   "window_display": false
  }
 },
 "nbformat": 4,
 "nbformat_minor": 5
}
