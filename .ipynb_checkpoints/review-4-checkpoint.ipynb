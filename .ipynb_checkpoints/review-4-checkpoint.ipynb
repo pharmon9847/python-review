{
 "cells": [
  {
   "cell_type": "code",
   "execution_count": 14,
   "id": "65ca8b26",
   "metadata": {
    "ExecuteTime": {
     "end_time": "2024-01-22T19:03:56.673098Z",
     "start_time": "2024-01-22T19:03:56.670666Z"
    }
   },
   "outputs": [],
   "source": [
    "# --------------------------------------------------------------------------------- #"
   ]
  },
  {
   "cell_type": "code",
   "execution_count": 15,
   "id": "1142ce81",
   "metadata": {
    "ExecuteTime": {
     "end_time": "2024-01-22T19:03:57.288875Z",
     "start_time": "2024-01-22T19:03:57.286392Z"
    }
   },
   "outputs": [],
   "source": [
    "# ------------------------------DICTIONARIES--------------------------------------------------"
   ]
  },
  {
   "cell_type": "code",
   "execution_count": 16,
   "id": "42aad2d1",
   "metadata": {
    "ExecuteTime": {
     "end_time": "2024-01-22T19:03:57.960872Z",
     "start_time": "2024-01-22T19:03:57.957881Z"
    }
   },
   "outputs": [],
   "source": [
    "office_peeps = {\n",
    "    'regional_manager': 'Michael Scott',\n",
    "     'assistant_to_regional_manager': 'Dwight Schrute',\n",
    "     'salesman-1': 'Jim Halpert',\n",
    "     'recptionist': 'Pam Beasley',\n",
    "     'salesman-2': 'Stanley Hudson',\n",
    "     'accountant-1':'Oscar Martinez',\n",
    "     'accountant-2': 'Kevin Malone',\n",
    "     'accountant-3': 'Angela Martin'\n",
    "               }"
   ]
  },
  {
   "cell_type": "code",
   "execution_count": 17,
   "id": "754ba9c7",
   "metadata": {
    "ExecuteTime": {
     "end_time": "2024-01-22T19:03:58.578942Z",
     "start_time": "2024-01-22T19:03:58.574478Z"
    }
   },
   "outputs": [
    {
     "data": {
      "text/plain": [
       "{'regional_manager': 'Michael Scott',\n",
       " 'assistant_to_regional_manager': 'Dwight Schrute',\n",
       " 'salesman-1': 'Jim Halpert',\n",
       " 'recptionist': 'Pam Beasley',\n",
       " 'salesman-2': 'Stanley Hudson',\n",
       " 'accountant-1': 'Oscar Martinez',\n",
       " 'accountant-2': 'Kevin Malone',\n",
       " 'accountant-3': 'Angela Martin'}"
      ]
     },
     "execution_count": 17,
     "metadata": {},
     "output_type": "execute_result"
    }
   ],
   "source": [
    "office_peeps"
   ]
  },
  {
   "cell_type": "code",
   "execution_count": 18,
   "id": "b5a23b8d",
   "metadata": {
    "ExecuteTime": {
     "end_time": "2024-01-22T19:06:12.972445Z",
     "start_time": "2024-01-22T19:06:12.968226Z"
    }
   },
   "outputs": [
    {
     "data": {
      "text/plain": [
       "{'father': 'Philip Harmon',\n",
       " 'mother': 'Jessica Culpepper',\n",
       " 'first-born': 'Wyatt Harmon',\n",
       " 'second-born': 'Pepper Harmon',\n",
       " 'third-born': 'Briar Harmon'}"
      ]
     },
     "execution_count": 18,
     "metadata": {},
     "output_type": "execute_result"
    }
   ],
   "source": [
    "harmon_family = {\n",
    "    'father': 'Philip Harmon',\n",
    "    'mother': 'Jessica Culpepper',\n",
    "    'first-born': 'Wyatt Harmon',\n",
    "    'second-born': 'Pepper Harmon',\n",
    "    'third-born': 'Briar Harmon'\n",
    "}\n",
    "harmon_family"
   ]
  },
  {
   "cell_type": "code",
   "execution_count": 19,
   "id": "0e211967",
   "metadata": {
    "ExecuteTime": {
     "end_time": "2024-01-22T19:07:42.344639Z",
     "start_time": "2024-01-22T19:07:42.340988Z"
    }
   },
   "outputs": [
    {
     "data": {
      "text/plain": [
       "True"
      ]
     },
     "execution_count": 19,
     "metadata": {},
     "output_type": "execute_result"
    }
   ],
   "source": [
    "'father' in harmon_family"
   ]
  },
  {
   "cell_type": "code",
   "execution_count": 20,
   "id": "87a8a99f",
   "metadata": {
    "ExecuteTime": {
     "end_time": "2024-01-22T19:07:52.539394Z",
     "start_time": "2024-01-22T19:07:52.535681Z"
    }
   },
   "outputs": [
    {
     "data": {
      "text/plain": [
       "False"
      ]
     },
     "execution_count": 20,
     "metadata": {},
     "output_type": "execute_result"
    }
   ],
   "source": [
    "'dog' in harmon_family"
   ]
  },
  {
   "cell_type": "code",
   "execution_count": 21,
   "id": "d034702c",
   "metadata": {
    "ExecuteTime": {
     "end_time": "2024-01-22T19:08:21.617572Z",
     "start_time": "2024-01-22T19:08:21.613695Z"
    }
   },
   "outputs": [
    {
     "data": {
      "text/plain": [
       "'Philip Harmon'"
      ]
     },
     "execution_count": 21,
     "metadata": {},
     "output_type": "execute_result"
    }
   ],
   "source": [
    "harmon_family['father']"
   ]
  },
  {
   "cell_type": "code",
   "execution_count": 22,
   "id": "6f2a067e",
   "metadata": {
    "ExecuteTime": {
     "end_time": "2024-01-22T19:08:38.001017Z",
     "start_time": "2024-01-22T19:08:37.997346Z"
    }
   },
   "outputs": [
    {
     "data": {
      "text/plain": [
       "'Jessica Culpepper'"
      ]
     },
     "execution_count": 22,
     "metadata": {},
     "output_type": "execute_result"
    }
   ],
   "source": [
    "harmon_family['mother']"
   ]
  },
  {
   "cell_type": "code",
   "execution_count": 24,
   "id": "28c0eb54",
   "metadata": {
    "ExecuteTime": {
     "end_time": "2024-01-22T19:11:53.969975Z",
     "start_time": "2024-01-22T19:11:53.965912Z"
    }
   },
   "outputs": [
    {
     "data": {
      "text/plain": [
       "'key not found'"
      ]
     },
     "execution_count": 24,
     "metadata": {},
     "output_type": "execute_result"
    }
   ],
   "source": [
    "harmon_family.get('dog', 'key not found')"
   ]
  },
  {
   "cell_type": "code",
   "execution_count": 25,
   "id": "4402704d",
   "metadata": {
    "ExecuteTime": {
     "end_time": "2024-01-22T19:12:24.132944Z",
     "start_time": "2024-01-22T19:12:24.129307Z"
    }
   },
   "outputs": [
    {
     "data": {
      "text/plain": [
       "'dept. not found'"
      ]
     },
     "execution_count": 25,
     "metadata": {},
     "output_type": "execute_result"
    }
   ],
   "source": [
    "office_peeps.get('hr', 'dept. not found')"
   ]
  },
  {
   "cell_type": "code",
   "execution_count": 26,
   "id": "ede33d08",
   "metadata": {
    "ExecuteTime": {
     "end_time": "2024-01-22T19:13:36.264860Z",
     "start_time": "2024-01-22T19:13:36.262479Z"
    }
   },
   "outputs": [],
   "source": [
    "# --------------------------------------------------------------------------------- #"
   ]
  },
  {
   "cell_type": "code",
   "execution_count": 27,
   "id": "1f15e649",
   "metadata": {
    "ExecuteTime": {
     "end_time": "2024-01-22T19:13:54.736398Z",
     "start_time": "2024-01-22T19:13:54.733992Z"
    }
   },
   "outputs": [],
   "source": [
    "# ------------------------------ITERATING OVER DICTIONARIES--------------------------------------------------"
   ]
  },
  {
   "cell_type": "code",
   "execution_count": 28,
   "id": "88579b73",
   "metadata": {
    "ExecuteTime": {
     "end_time": "2024-01-22T19:15:20.193586Z",
     "start_time": "2024-01-22T19:15:20.190403Z"
    }
   },
   "outputs": [
    {
     "name": "stdout",
     "output_type": "stream",
     "text": [
      "regional_manager\n",
      "assistant_to_regional_manager\n",
      "salesman-1\n",
      "recptionist\n",
      "salesman-2\n",
      "accountant-1\n",
      "accountant-2\n",
      "accountant-3\n"
     ]
    }
   ],
   "source": [
    "for job in office_peeps.keys():\n",
    "    print(job)"
   ]
  },
  {
   "cell_type": "code",
   "execution_count": 30,
   "id": "2c7685a9",
   "metadata": {
    "ExecuteTime": {
     "end_time": "2024-01-22T19:16:01.050431Z",
     "start_time": "2024-01-22T19:16:01.047867Z"
    }
   },
   "outputs": [
    {
     "name": "stdout",
     "output_type": "stream",
     "text": [
      "Michael Scott\n",
      "Dwight Schrute\n",
      "Jim Halpert\n",
      "Pam Beasley\n",
      "Stanley Hudson\n",
      "Oscar Martinez\n",
      "Kevin Malone\n",
      "Angela Martin\n"
     ]
    }
   ],
   "source": [
    "for name in office_peeps.values():\n",
    "    print(name)"
   ]
  },
  {
   "cell_type": "code",
   "execution_count": 31,
   "id": "7fc9f34d",
   "metadata": {
    "ExecuteTime": {
     "end_time": "2024-01-22T19:16:39.324461Z",
     "start_time": "2024-01-22T19:16:39.321703Z"
    }
   },
   "outputs": [
    {
     "name": "stdout",
     "output_type": "stream",
     "text": [
      "('regional_manager', 'Michael Scott')\n",
      "('assistant_to_regional_manager', 'Dwight Schrute')\n",
      "('salesman-1', 'Jim Halpert')\n",
      "('recptionist', 'Pam Beasley')\n",
      "('salesman-2', 'Stanley Hudson')\n",
      "('accountant-1', 'Oscar Martinez')\n",
      "('accountant-2', 'Kevin Malone')\n",
      "('accountant-3', 'Angela Martin')\n"
     ]
    }
   ],
   "source": [
    "for job_and_name in office_peeps.items():\n",
    "    print(job_and_name)"
   ]
  },
  {
   "cell_type": "code",
   "execution_count": 34,
   "id": "f603384d",
   "metadata": {
    "ExecuteTime": {
     "end_time": "2024-01-22T19:25:22.412060Z",
     "start_time": "2024-01-22T19:25:22.409363Z"
    }
   },
   "outputs": [
    {
     "name": "stdout",
     "output_type": "stream",
     "text": [
      "Michael Scott <-is-> regional_manager\n",
      "Dwight Schrute <-is-> assistant_to_regional_manager\n",
      "Jim Halpert <-is-> salesman-1\n",
      "Pam Beasley <-is-> recptionist\n",
      "Stanley Hudson <-is-> salesman-2\n",
      "Oscar Martinez <-is-> accountant-1\n",
      "Kevin Malone <-is-> accountant-2\n",
      "Angela Martin <-is-> accountant-3\n"
     ]
    }
   ],
   "source": [
    "for (job, name) in office_peeps.items():\n",
    "    print(name, '<-is->', job)"
   ]
  },
  {
   "cell_type": "code",
   "execution_count": 35,
   "id": "712b471b",
   "metadata": {
    "ExecuteTime": {
     "end_time": "2024-01-22T19:31:03.526952Z",
     "start_time": "2024-01-22T19:31:03.512822Z"
    }
   },
   "outputs": [],
   "source": [
    "# --------------------------------------------------------------------------------- #"
   ]
  },
  {
   "cell_type": "code",
   "execution_count": 37,
   "id": "ac506e2f",
   "metadata": {
    "ExecuteTime": {
     "end_time": "2024-01-22T19:31:43.581083Z",
     "start_time": "2024-01-22T19:31:43.577982Z"
    }
   },
   "outputs": [],
   "source": [
    "# ------------------------------SETS INTRO--------------------------------------------------"
   ]
  },
  {
   "cell_type": "code",
   "execution_count": 38,
   "id": "65725efd",
   "metadata": {
    "ExecuteTime": {
     "end_time": "2024-01-22T19:38:00.791769Z",
     "start_time": "2024-01-22T19:38:00.773178Z"
    },
    "scrolled": false
   },
   "outputs": [
    {
     "data": {
      "text/plain": [
       "{'blue', 'green', 'orange', 'red'}"
      ]
     },
     "execution_count": 38,
     "metadata": {},
     "output_type": "execute_result"
    }
   ],
   "source": [
    "colors = {'red', 'blue', 'green', 'orange'}\n",
    "colors"
   ]
  },
  {
   "cell_type": "code",
   "execution_count": 39,
   "id": "36fcdd61",
   "metadata": {
    "ExecuteTime": {
     "end_time": "2024-01-22T19:38:16.491188Z",
     "start_time": "2024-01-22T19:38:16.487660Z"
    },
    "scrolled": true
   },
   "outputs": [
    {
     "data": {
      "text/plain": [
       "set"
      ]
     },
     "execution_count": 39,
     "metadata": {},
     "output_type": "execute_result"
    }
   ],
   "source": [
    "type(colors)"
   ]
  },
  {
   "cell_type": "code",
   "execution_count": 40,
   "id": "3fe0d84e",
   "metadata": {
    "ExecuteTime": {
     "end_time": "2024-01-23T14:49:08.807234Z",
     "start_time": "2024-01-23T14:49:08.783590Z"
    }
   },
   "outputs": [],
   "source": [
    "# --------------------------------------------------------------------------------- #"
   ]
  },
  {
   "cell_type": "code",
   "execution_count": 41,
   "id": "76f717db",
   "metadata": {
    "ExecuteTime": {
     "end_time": "2024-01-23T14:49:24.876347Z",
     "start_time": "2024-01-23T14:49:24.874240Z"
    }
   },
   "outputs": [],
   "source": [
    "# ------------------------------SETS METHODS--------------------------------------------------"
   ]
  },
  {
   "cell_type": "code",
   "execution_count": 42,
   "id": "a4e32322",
   "metadata": {
    "ExecuteTime": {
     "end_time": "2024-01-23T14:49:51.778369Z",
     "start_time": "2024-01-23T14:49:51.770758Z"
    }
   },
   "outputs": [
    {
     "data": {
      "text/plain": [
       "True"
      ]
     },
     "execution_count": 42,
     "metadata": {},
     "output_type": "execute_result"
    }
   ],
   "source": [
    "'red' in colors"
   ]
  },
  {
   "cell_type": "code",
   "execution_count": 43,
   "id": "5bc61bd3",
   "metadata": {
    "ExecuteTime": {
     "end_time": "2024-01-23T14:50:50.021024Z",
     "start_time": "2024-01-23T14:50:50.016506Z"
    }
   },
   "outputs": [
    {
     "data": {
      "text/plain": [
       "{'blue', 'green', 'orange', 'purple', 'red'}"
      ]
     },
     "execution_count": 43,
     "metadata": {},
     "output_type": "execute_result"
    }
   ],
   "source": [
    "# add\n",
    "colors.add('purple')\n",
    "colors"
   ]
  },
  {
   "cell_type": "code",
   "execution_count": 44,
   "id": "3cb6a32f",
   "metadata": {
    "ExecuteTime": {
     "end_time": "2024-01-23T14:51:23.208121Z",
     "start_time": "2024-01-23T14:51:23.204489Z"
    }
   },
   "outputs": [
    {
     "data": {
      "text/plain": [
       "'blue'"
      ]
     },
     "execution_count": 44,
     "metadata": {},
     "output_type": "execute_result"
    }
   ],
   "source": [
    "# pop\n",
    "colors.pop()"
   ]
  },
  {
   "cell_type": "code",
   "execution_count": 45,
   "id": "5ca90493",
   "metadata": {
    "ExecuteTime": {
     "end_time": "2024-01-23T14:51:28.696987Z",
     "start_time": "2024-01-23T14:51:28.692142Z"
    }
   },
   "outputs": [
    {
     "data": {
      "text/plain": [
       "{'green', 'orange', 'purple', 'red'}"
      ]
     },
     "execution_count": 45,
     "metadata": {},
     "output_type": "execute_result"
    }
   ],
   "source": [
    "colors"
   ]
  },
  {
   "cell_type": "code",
   "execution_count": 46,
   "id": "52ebfe9b",
   "metadata": {
    "ExecuteTime": {
     "end_time": "2024-01-23T14:52:04.018572Z",
     "start_time": "2024-01-23T14:52:04.014345Z"
    }
   },
   "outputs": [],
   "source": [
    "# remove\n",
    "colors.remove('green')"
   ]
  },
  {
   "cell_type": "code",
   "execution_count": 47,
   "id": "e0327561",
   "metadata": {
    "ExecuteTime": {
     "end_time": "2024-01-23T14:52:09.496438Z",
     "start_time": "2024-01-23T14:52:09.492917Z"
    }
   },
   "outputs": [
    {
     "data": {
      "text/plain": [
       "{'orange', 'purple', 'red'}"
      ]
     },
     "execution_count": 47,
     "metadata": {},
     "output_type": "execute_result"
    }
   ],
   "source": [
    "colors"
   ]
  },
  {
   "cell_type": "code",
   "execution_count": 48,
   "id": "73074981",
   "metadata": {
    "ExecuteTime": {
     "end_time": "2024-01-23T14:54:58.615423Z",
     "start_time": "2024-01-23T14:54:58.612980Z"
    }
   },
   "outputs": [],
   "source": [
    "# --------------------------------------------------------------------------------- #"
   ]
  },
  {
   "cell_type": "code",
   "execution_count": 49,
   "id": "a49379d6",
   "metadata": {
    "ExecuteTime": {
     "end_time": "2024-01-23T14:55:13.707253Z",
     "start_time": "2024-01-23T14:55:13.704283Z"
    }
   },
   "outputs": [],
   "source": [
    "# ------------------------------SETS OPERATIONS--------------------------------------------------"
   ]
  },
  {
   "cell_type": "code",
   "execution_count": 52,
   "id": "f45104a8",
   "metadata": {
    "ExecuteTime": {
     "end_time": "2024-01-23T15:00:05.243212Z",
     "start_time": "2024-01-23T15:00:05.239514Z"
    }
   },
   "outputs": [],
   "source": [
    "moods = {'happy', 'sad', 'grumpy', 'horny', 'sleepy', 'dopey', 'lumpy'}\n",
    "dwarfs = {'happy', 'grumpy', 'doc', 'lumpy', 'dumpy', 'dopey'}"
   ]
  },
  {
   "cell_type": "code",
   "execution_count": 53,
   "id": "0583832f",
   "metadata": {
    "ExecuteTime": {
     "end_time": "2024-01-23T15:00:06.127422Z",
     "start_time": "2024-01-23T15:00:06.124280Z"
    }
   },
   "outputs": [
    {
     "data": {
      "text/plain": [
       "{'doc', 'dopey', 'dumpy', 'grumpy', 'happy', 'horny', 'lumpy', 'sad', 'sleepy'}"
      ]
     },
     "execution_count": 53,
     "metadata": {},
     "output_type": "execute_result"
    }
   ],
   "source": [
    "# union\n",
    "moods | dwarfs"
   ]
  },
  {
   "cell_type": "code",
   "execution_count": 54,
   "id": "bafc64b9",
   "metadata": {
    "ExecuteTime": {
     "end_time": "2024-01-23T15:01:06.159457Z",
     "start_time": "2024-01-23T15:01:06.155977Z"
    }
   },
   "outputs": [
    {
     "data": {
      "text/plain": [
       "{'doc', 'dopey', 'dumpy', 'grumpy', 'happy', 'horny', 'lumpy', 'sad', 'sleepy'}"
      ]
     },
     "execution_count": 54,
     "metadata": {},
     "output_type": "execute_result"
    }
   ],
   "source": [
    "moods.union(dwarfs)"
   ]
  },
  {
   "cell_type": "code",
   "execution_count": 55,
   "id": "1cd6403a",
   "metadata": {
    "ExecuteTime": {
     "end_time": "2024-01-23T15:03:05.358279Z",
     "start_time": "2024-01-23T15:03:05.353094Z"
    }
   },
   "outputs": [
    {
     "data": {
      "text/plain": [
       "{'doc',\n",
       " 'dopey',\n",
       " 'dumpy',\n",
       " 'fat',\n",
       " 'grumpy',\n",
       " 'happy',\n",
       " 'horny',\n",
       " 'lumpy',\n",
       " 'sad',\n",
       " 'short',\n",
       " 'skinny',\n",
       " 'sleepy',\n",
       " 'tall'}"
      ]
     },
     "execution_count": 55,
     "metadata": {},
     "output_type": "execute_result"
    }
   ],
   "source": [
    "moods | dwarfs | {'short', 'tall', 'fat', 'skinny'}"
   ]
  },
  {
   "cell_type": "code",
   "execution_count": 56,
   "id": "eb948be1",
   "metadata": {
    "ExecuteTime": {
     "end_time": "2024-01-23T15:03:53.568897Z",
     "start_time": "2024-01-23T15:03:53.563167Z"
    }
   },
   "outputs": [
    {
     "data": {
      "text/plain": [
       "{'dopey', 'grumpy', 'happy', 'lumpy'}"
      ]
     },
     "execution_count": 56,
     "metadata": {},
     "output_type": "execute_result"
    }
   ],
   "source": [
    "# intersection\n",
    "moods & dwarfs"
   ]
  },
  {
   "cell_type": "code",
   "execution_count": 57,
   "id": "f9d3e832",
   "metadata": {
    "ExecuteTime": {
     "end_time": "2024-01-23T15:04:18.082504Z",
     "start_time": "2024-01-23T15:04:18.078753Z"
    }
   },
   "outputs": [
    {
     "data": {
      "text/plain": [
       "{'dopey', 'grumpy', 'happy', 'lumpy'}"
      ]
     },
     "execution_count": 57,
     "metadata": {},
     "output_type": "execute_result"
    }
   ],
   "source": [
    "moods.intersection(dwarfs)"
   ]
  },
  {
   "cell_type": "code",
   "execution_count": 58,
   "id": "af393c73",
   "metadata": {
    "ExecuteTime": {
     "end_time": "2024-01-23T15:05:06.338420Z",
     "start_time": "2024-01-23T15:05:06.334506Z"
    }
   },
   "outputs": [
    {
     "data": {
      "text/plain": [
       "{'horny', 'sad', 'sleepy'}"
      ]
     },
     "execution_count": 58,
     "metadata": {},
     "output_type": "execute_result"
    }
   ],
   "source": [
    "# difference\n",
    "# compares FIRST set to SECOND set\n",
    "moods - dwarfs"
   ]
  },
  {
   "cell_type": "code",
   "execution_count": 59,
   "id": "e84d334b",
   "metadata": {
    "ExecuteTime": {
     "end_time": "2024-01-23T15:05:16.350006Z",
     "start_time": "2024-01-23T15:05:16.346551Z"
    }
   },
   "outputs": [
    {
     "data": {
      "text/plain": [
       "{'doc', 'dumpy'}"
      ]
     },
     "execution_count": 59,
     "metadata": {},
     "output_type": "execute_result"
    }
   ],
   "source": [
    "dwarfs - moods"
   ]
  },
  {
   "cell_type": "code",
   "execution_count": 60,
   "id": "7907ca9a",
   "metadata": {
    "ExecuteTime": {
     "end_time": "2024-01-23T15:07:12.420106Z",
     "start_time": "2024-01-23T15:07:12.416480Z"
    }
   },
   "outputs": [
    {
     "data": {
      "text/plain": [
       "{'doc', 'dumpy', 'horny', 'sad', 'sleepy'}"
      ]
     },
     "execution_count": 60,
     "metadata": {},
     "output_type": "execute_result"
    }
   ],
   "source": [
    "# symmetric difference\n",
    "moods ^ dwarfs"
   ]
  },
  {
   "cell_type": "code",
   "execution_count": 61,
   "id": "67a4ed30",
   "metadata": {
    "ExecuteTime": {
     "end_time": "2024-01-23T15:07:28.611034Z",
     "start_time": "2024-01-23T15:07:28.607599Z"
    }
   },
   "outputs": [
    {
     "data": {
      "text/plain": [
       "{'doc', 'dumpy', 'horny', 'sad', 'sleepy'}"
      ]
     },
     "execution_count": 61,
     "metadata": {},
     "output_type": "execute_result"
    }
   ],
   "source": [
    "dwarfs ^ moods"
   ]
  },
  {
   "cell_type": "code",
   "execution_count": 62,
   "id": "204d33ca",
   "metadata": {
    "ExecuteTime": {
     "end_time": "2024-01-23T15:16:19.523993Z",
     "start_time": "2024-01-23T15:16:19.521508Z"
    }
   },
   "outputs": [],
   "source": [
    "# --------------------------------------------------------------------------------- #"
   ]
  },
  {
   "cell_type": "code",
   "execution_count": 63,
   "id": "bfb15cc7",
   "metadata": {
    "ExecuteTime": {
     "end_time": "2024-01-23T15:16:57.535075Z",
     "start_time": "2024-01-23T15:16:57.533037Z"
    }
   },
   "outputs": [],
   "source": [
    "# ------------------------------TUPLES--------------------------------------------------\n",
    "# ** slightly smaller and faster than list **\n",
    "# ** since they're immutable, they acn be used as dict keys or put into sets **"
   ]
  },
  {
   "cell_type": "code",
   "execution_count": 64,
   "id": "169d03f6",
   "metadata": {
    "ExecuteTime": {
     "end_time": "2024-01-23T15:18:00.196041Z",
     "start_time": "2024-01-23T15:18:00.191042Z"
    }
   },
   "outputs": [
    {
     "data": {
      "text/plain": [
       "('red', 'yellow', 'green')"
      ]
     },
     "execution_count": 64,
     "metadata": {},
     "output_type": "execute_result"
    }
   ],
   "source": [
    "colorz = ('red', 'yellow', 'green')\n",
    "colorz"
   ]
  },
  {
   "cell_type": "code",
   "execution_count": 65,
   "id": "d7e29285",
   "metadata": {
    "ExecuteTime": {
     "end_time": "2024-01-23T15:18:32.157436Z",
     "start_time": "2024-01-23T15:18:32.154531Z"
    }
   },
   "outputs": [
    {
     "data": {
      "text/plain": [
       "3"
      ]
     },
     "execution_count": 65,
     "metadata": {},
     "output_type": "execute_result"
    }
   ],
   "source": [
    "len(colorz)"
   ]
  },
  {
   "cell_type": "code",
   "execution_count": 66,
   "id": "0bb068b8",
   "metadata": {
    "ExecuteTime": {
     "end_time": "2024-01-23T15:22:34.728902Z",
     "start_time": "2024-01-23T15:22:34.722678Z"
    }
   },
   "outputs": [
    {
     "data": {
      "text/plain": [
       "{'regional_manager': 'Michael Scott',\n",
       " 'assistant_to_regional_manager': 'Dwight Schrute',\n",
       " 'salesman-1': 'Jim Halpert',\n",
       " 'recptionist': 'Pam Beasley',\n",
       " 'salesman-2': 'Stanley Hudson',\n",
       " 'accountant-1': 'Oscar Martinez',\n",
       " 'accountant-2': 'Kevin Malone',\n",
       " 'accountant-3': 'Angela Martin'}"
      ]
     },
     "execution_count": 66,
     "metadata": {},
     "output_type": "execute_result"
    }
   ],
   "source": [
    "office_peeps"
   ]
  },
  {
   "cell_type": "code",
   "execution_count": 67,
   "id": "8ccca7d9",
   "metadata": {
    "ExecuteTime": {
     "end_time": "2024-01-23T15:22:57.708235Z",
     "start_time": "2024-01-23T15:22:57.703475Z"
    }
   },
   "outputs": [
    {
     "data": {
      "text/plain": [
       "dict_items([('regional_manager', 'Michael Scott'), ('assistant_to_regional_manager', 'Dwight Schrute'), ('salesman-1', 'Jim Halpert'), ('recptionist', 'Pam Beasley'), ('salesman-2', 'Stanley Hudson'), ('accountant-1', 'Oscar Martinez'), ('accountant-2', 'Kevin Malone'), ('accountant-3', 'Angela Martin')])"
      ]
     },
     "execution_count": 67,
     "metadata": {},
     "output_type": "execute_result"
    }
   ],
   "source": [
    "office_peeps.items()"
   ]
  },
  {
   "cell_type": "code",
   "execution_count": 68,
   "id": "a39a96fd",
   "metadata": {
    "ExecuteTime": {
     "end_time": "2024-01-23T15:24:08.711223Z",
     "start_time": "2024-01-23T15:24:08.708027Z"
    }
   },
   "outputs": [
    {
     "name": "stdout",
     "output_type": "stream",
     "text": [
      "regional_manager - Michael Scott\n",
      "assistant_to_regional_manager - Dwight Schrute\n",
      "salesman-1 - Jim Halpert\n",
      "recptionist - Pam Beasley\n",
      "salesman-2 - Stanley Hudson\n",
      "accountant-1 - Oscar Martinez\n",
      "accountant-2 - Kevin Malone\n",
      "accountant-3 - Angela Martin\n"
     ]
    }
   ],
   "source": [
    "for (k,v) in office_peeps.items():\n",
    "    print(k, '-', v)"
   ]
  },
  {
   "cell_type": "code",
   "execution_count": 69,
   "id": "0846fe6f",
   "metadata": {
    "ExecuteTime": {
     "end_time": "2024-01-23T15:27:08.028129Z",
     "start_time": "2024-01-23T15:27:08.022779Z"
    }
   },
   "outputs": [
    {
     "data": {
      "text/plain": [
       "{(0, 0): 'X', (0, 1): None, (0, 2): 'O', (1, 0): 'X', (1, 1): 'O'}"
      ]
     },
     "execution_count": 69,
     "metadata": {},
     "output_type": "execute_result"
    }
   ],
   "source": [
    "board = {\n",
    "    (0,0): 'X',\n",
    "    (0,1): None,\n",
    "    (0,2): 'O',\n",
    "    (1,0): 'X',\n",
    "    (1,1): 'O'\n",
    "}\n",
    "board"
   ]
  },
  {
   "cell_type": "code",
   "execution_count": 71,
   "id": "acd5cc80",
   "metadata": {
    "ExecuteTime": {
     "end_time": "2024-01-23T15:27:35.434460Z",
     "start_time": "2024-01-23T15:27:35.430985Z"
    }
   },
   "outputs": [
    {
     "data": {
      "text/plain": [
       "'O'"
      ]
     },
     "execution_count": 71,
     "metadata": {},
     "output_type": "execute_result"
    }
   ],
   "source": [
    "board[(0,2)]"
   ]
  },
  {
   "cell_type": "code",
   "execution_count": 72,
   "id": "3214aabd",
   "metadata": {
    "ExecuteTime": {
     "end_time": "2024-01-23T15:27:49.321095Z",
     "start_time": "2024-01-23T15:27:49.317747Z"
    }
   },
   "outputs": [
    {
     "data": {
      "text/plain": [
       "'X'"
      ]
     },
     "execution_count": 72,
     "metadata": {},
     "output_type": "execute_result"
    }
   ],
   "source": [
    "board[(0,0)]"
   ]
  },
  {
   "cell_type": "code",
   "execution_count": 73,
   "id": "518242e6",
   "metadata": {
    "ExecuteTime": {
     "end_time": "2024-01-23T15:30:16.165635Z",
     "start_time": "2024-01-23T15:30:16.162786Z"
    }
   },
   "outputs": [],
   "source": [
    "# --------------------------------------------------------------------------------- #"
   ]
  },
  {
   "cell_type": "code",
   "execution_count": 74,
   "id": "a6bb5ea7",
   "metadata": {
    "ExecuteTime": {
     "end_time": "2024-01-23T15:30:45.489461Z",
     "start_time": "2024-01-23T15:30:45.487185Z"
    }
   },
   "outputs": [],
   "source": [
    "# ------------------------------LIST COMPREHENSIONS--------------------------------------------------"
   ]
  },
  {
   "cell_type": "code",
   "execution_count": 75,
   "id": "07b4b34d",
   "metadata": {
    "ExecuteTime": {
     "end_time": "2024-01-23T15:33:07.238358Z",
     "start_time": "2024-01-23T15:33:07.234355Z"
    }
   },
   "outputs": [
    {
     "data": {
      "text/plain": [
       "[1, 2, 3, 4, 5, 6, 7, 8, 9, 10, 11, 12, 13]"
      ]
     },
     "execution_count": 75,
     "metadata": {},
     "output_type": "execute_result"
    }
   ],
   "source": [
    "nums = [1,2,3,4,5,6,7,8,9,10,11,12,13]\n",
    "nums"
   ]
  },
  {
   "cell_type": "code",
   "execution_count": 76,
   "id": "ee11cce9",
   "metadata": {
    "ExecuteTime": {
     "end_time": "2024-01-23T15:35:07.006216Z",
     "start_time": "2024-01-23T15:35:07.002725Z"
    }
   },
   "outputs": [
    {
     "name": "stdout",
     "output_type": "stream",
     "text": [
      "[2, 4, 6, 8, 10, 12]\n"
     ]
    }
   ],
   "source": [
    "# get even numbers without using comprehension\n",
    "evens = []\n",
    "for num in nums:\n",
    "    if num % 2 == 0:\n",
    "        evens.append(num)\n",
    "print(evens)"
   ]
  },
  {
   "cell_type": "code",
   "execution_count": 77,
   "id": "5da572e9",
   "metadata": {
    "ExecuteTime": {
     "end_time": "2024-01-23T15:38:38.648062Z",
     "start_time": "2024-01-23T15:38:38.644432Z"
    }
   },
   "outputs": [
    {
     "data": {
      "text/plain": [
       "[2, 4, 6, 8, 10, 12]"
      ]
     },
     "execution_count": 77,
     "metadata": {},
     "output_type": "execute_result"
    }
   ],
   "source": [
    "# using comprehension\n",
    "\n",
    "# [what_we_want_to_append for thing in list]\n",
    "\n",
    "# there is a loop --> for num in nums\n",
    "# there is a conditional --> if num % 2 == 0\n",
    "evens_comp = [num for num in nums if num % 2 == 0]\n",
    "evens_comp"
   ]
  },
  {
   "cell_type": "code",
   "execution_count": 79,
   "id": "0c2a937b",
   "metadata": {
    "ExecuteTime": {
     "end_time": "2024-01-23T15:43:37.492694Z",
     "start_time": "2024-01-23T15:43:37.488624Z"
    }
   },
   "outputs": [
    {
     "data": {
      "text/plain": [
       "[2, 4, 6, 8, 10, 12, 14, 16, 18, 20, 22, 24, 26]"
      ]
     },
     "execution_count": 79,
     "metadata": {},
     "output_type": "execute_result"
    }
   ],
   "source": [
    "# double every value in 'nums'\n",
    "# this is what it looks like without comprehension:\n",
    "#    new_list = []\n",
    "#    for num in nums:\n",
    "#        new_list.append(num * 2)\n",
    "[num * 2 for num in nums]"
   ]
  },
  {
   "cell_type": "code",
   "execution_count": 80,
   "id": "4d00c819",
   "metadata": {
    "ExecuteTime": {
     "end_time": "2024-01-23T15:46:55.413614Z",
     "start_time": "2024-01-23T15:46:55.409776Z"
    }
   },
   "outputs": [
    {
     "data": {
      "text/plain": [
       "[4, 16, 36, 64]"
      ]
     },
     "execution_count": 80,
     "metadata": {},
     "output_type": "execute_result"
    }
   ],
   "source": [
    "[n * n for n in [2,4,6,8]]"
   ]
  },
  {
   "cell_type": "code",
   "execution_count": 81,
   "id": "917ee201",
   "metadata": {
    "ExecuteTime": {
     "end_time": "2024-01-23T15:50:14.167016Z",
     "start_time": "2024-01-23T15:50:14.163429Z"
    }
   },
   "outputs": [
    {
     "data": {
      "text/plain": [
       "['S.', 'U.', 'P.', ' .', 'D.', 'O.', 'G.']"
      ]
     },
     "execution_count": 81,
     "metadata": {},
     "output_type": "execute_result"
    }
   ],
   "source": [
    "# use with stings\n",
    "[char.upper() + '.' for char in 'sup dog']"
   ]
  },
  {
   "cell_type": "code",
   "execution_count": 82,
   "id": "8330689c",
   "metadata": {
    "ExecuteTime": {
     "end_time": "2024-01-23T15:50:46.634846Z",
     "start_time": "2024-01-23T15:50:46.631014Z"
    }
   },
   "outputs": [
    {
     "data": {
      "text/plain": [
       "[10, 11, 12, 13, 14, 15, 16, 17, 18, 19]"
      ]
     },
     "execution_count": 82,
     "metadata": {},
     "output_type": "execute_result"
    }
   ],
   "source": [
    "# use with range\n",
    "[num for num in range(10,20)]"
   ]
  },
  {
   "cell_type": "code",
   "execution_count": 83,
   "id": "f2dd920f",
   "metadata": {
    "ExecuteTime": {
     "end_time": "2024-01-23T15:51:22.662411Z",
     "start_time": "2024-01-23T15:51:22.658577Z"
    }
   },
   "outputs": [
    {
     "data": {
      "text/plain": [
       "[5.0, 5.5, 6.0, 6.5, 7.0, 7.5, 8.0, 8.5, 9.0, 9.5]"
      ]
     },
     "execution_count": 83,
     "metadata": {},
     "output_type": "execute_result"
    }
   ],
   "source": [
    "[num/2 for num in range(10,20)]"
   ]
  },
  {
   "cell_type": "code",
   "execution_count": null,
   "id": "7a48ab30",
   "metadata": {},
   "outputs": [],
   "source": []
  }
 ],
 "metadata": {
  "kernelspec": {
   "display_name": "Python 3 (ipykernel)",
   "language": "python",
   "name": "python3"
  },
  "language_info": {
   "codemirror_mode": {
    "name": "ipython",
    "version": 3
   },
   "file_extension": ".py",
   "mimetype": "text/x-python",
   "name": "python",
   "nbconvert_exporter": "python",
   "pygments_lexer": "ipython3",
   "version": "3.11.5"
  },
  "varInspector": {
   "cols": {
    "lenName": 16,
    "lenType": 16,
    "lenVar": 40
   },
   "kernels_config": {
    "python": {
     "delete_cmd_postfix": "",
     "delete_cmd_prefix": "del ",
     "library": "var_list.py",
     "varRefreshCmd": "print(var_dic_list())"
    },
    "r": {
     "delete_cmd_postfix": ") ",
     "delete_cmd_prefix": "rm(",
     "library": "var_list.r",
     "varRefreshCmd": "cat(var_dic_list()) "
    }
   },
   "types_to_exclude": [
    "module",
    "function",
    "builtin_function_or_method",
    "instance",
    "_Feature"
   ],
   "window_display": false
  }
 },
 "nbformat": 4,
 "nbformat_minor": 5
}
