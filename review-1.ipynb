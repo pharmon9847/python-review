{
 "cells": [
  {
   "cell_type": "code",
   "execution_count": 22,
   "id": "ac4ba118",
   "metadata": {
    "ExecuteTime": {
     "end_time": "2024-01-21T15:18:40.504009Z",
     "start_time": "2024-01-21T15:18:40.501495Z"
    }
   },
   "outputs": [],
   "source": [
    "# ------------------------------variables--------------------------------------------\n",
    "# -----------------------------------------------------------------------------------"
   ]
  },
  {
   "cell_type": "code",
   "execution_count": 23,
   "id": "6a518bc0",
   "metadata": {
    "ExecuteTime": {
     "end_time": "2024-01-21T15:18:41.235898Z",
     "start_time": "2024-01-21T15:18:41.231740Z"
    }
   },
   "outputs": [
    {
     "data": {
      "text/plain": [
       "13"
      ]
     },
     "execution_count": 23,
     "metadata": {},
     "output_type": "execute_result"
    }
   ],
   "source": [
    "chickens = 13\n",
    "chickens"
   ]
  },
  {
   "cell_type": "code",
   "execution_count": 24,
   "id": "eb0b41a7",
   "metadata": {
    "ExecuteTime": {
     "end_time": "2024-01-21T15:18:42.075855Z",
     "start_time": "2024-01-21T15:18:42.071522Z"
    }
   },
   "outputs": [
    {
     "data": {
      "text/plain": [
       "('Wyatt', 'Pepper', 'Briar')"
      ]
     },
     "execution_count": 24,
     "metadata": {},
     "output_type": "execute_result"
    }
   ],
   "source": [
    "num_of_kids = 3\n",
    "wife = 'Jessica'\n",
    "kids_names = 'Wyatt', 'Pepper', 'Briar'\n",
    "kids_names"
   ]
  },
  {
   "cell_type": "code",
   "execution_count": 25,
   "id": "e60ec5db",
   "metadata": {
    "ExecuteTime": {
     "end_time": "2024-01-21T15:18:42.937644Z",
     "start_time": "2024-01-21T15:18:42.935255Z"
    }
   },
   "outputs": [],
   "source": [
    "# #############################################################################################################"
   ]
  },
  {
   "cell_type": "code",
   "execution_count": 26,
   "id": "c14d6870",
   "metadata": {
    "ExecuteTime": {
     "end_time": "2024-01-21T15:18:43.703504Z",
     "start_time": "2024-01-21T15:18:43.701212Z"
    }
   },
   "outputs": [],
   "source": [
    "# --------------------------------numbers--------------------------------------------\n",
    "# -----------------------------------------------------------------------------------\n"
   ]
  },
  {
   "cell_type": "code",
   "execution_count": 27,
   "id": "4e039bfe",
   "metadata": {
    "ExecuteTime": {
     "end_time": "2024-01-21T15:18:44.595481Z",
     "start_time": "2024-01-21T15:18:44.591623Z"
    }
   },
   "outputs": [
    {
     "data": {
      "text/plain": [
       "3"
      ]
     },
     "execution_count": 27,
     "metadata": {},
     "output_type": "execute_result"
    }
   ],
   "source": [
    "1+2"
   ]
  },
  {
   "cell_type": "code",
   "execution_count": 28,
   "id": "78088add",
   "metadata": {
    "ExecuteTime": {
     "end_time": "2024-01-21T15:18:45.621505Z",
     "start_time": "2024-01-21T15:18:45.618104Z"
    }
   },
   "outputs": [
    {
     "data": {
      "text/plain": [
       "18"
      ]
     },
     "execution_count": 28,
     "metadata": {},
     "output_type": "execute_result"
    }
   ],
   "source": [
    "3*6"
   ]
  },
  {
   "cell_type": "code",
   "execution_count": 29,
   "id": "ed741483",
   "metadata": {
    "ExecuteTime": {
     "end_time": "2024-01-21T15:18:46.361287Z",
     "start_time": "2024-01-21T15:18:46.357150Z"
    }
   },
   "outputs": [
    {
     "data": {
      "text/plain": [
       "23"
      ]
     },
     "execution_count": 29,
     "metadata": {},
     "output_type": "execute_result"
    }
   ],
   "source": [
    "3*6-1+3*2"
   ]
  },
  {
   "cell_type": "code",
   "execution_count": 30,
   "id": "5b538ac8",
   "metadata": {
    "ExecuteTime": {
     "end_time": "2024-01-21T15:18:47.115770Z",
     "start_time": "2024-01-21T15:18:47.111804Z"
    }
   },
   "outputs": [
    {
     "data": {
      "text/plain": [
       "0.4"
      ]
     },
     "execution_count": 30,
     "metadata": {},
     "output_type": "execute_result"
    }
   ],
   "source": [
    "2/5"
   ]
  },
  {
   "cell_type": "code",
   "execution_count": 31,
   "id": "0f422cb2",
   "metadata": {
    "ExecuteTime": {
     "end_time": "2024-01-21T15:18:48.458416Z",
     "start_time": "2024-01-21T15:18:48.454405Z"
    }
   },
   "outputs": [
    {
     "data": {
      "text/plain": [
       "int"
      ]
     },
     "execution_count": 31,
     "metadata": {},
     "output_type": "execute_result"
    }
   ],
   "source": [
    "type(2)"
   ]
  },
  {
   "cell_type": "code",
   "execution_count": 32,
   "id": "762cc427",
   "metadata": {
    "ExecuteTime": {
     "end_time": "2024-01-21T15:18:51.705053Z",
     "start_time": "2024-01-21T15:18:51.701099Z"
    }
   },
   "outputs": [
    {
     "data": {
      "text/plain": [
       "int"
      ]
     },
     "execution_count": 32,
     "metadata": {},
     "output_type": "execute_result"
    }
   ],
   "source": [
    "type(5)"
   ]
  },
  {
   "cell_type": "code",
   "execution_count": 33,
   "id": "4921abf2",
   "metadata": {
    "ExecuteTime": {
     "end_time": "2024-01-21T15:18:52.452728Z",
     "start_time": "2024-01-21T15:18:52.448855Z"
    }
   },
   "outputs": [
    {
     "data": {
      "text/plain": [
       "float"
      ]
     },
     "execution_count": 33,
     "metadata": {},
     "output_type": "execute_result"
    }
   ],
   "source": [
    "ans = 2/5\n",
    "type(ans)"
   ]
  },
  {
   "cell_type": "code",
   "execution_count": 34,
   "id": "be554e85",
   "metadata": {
    "ExecuteTime": {
     "end_time": "2024-01-21T15:18:53.273110Z",
     "start_time": "2024-01-21T15:18:53.269893Z"
    }
   },
   "outputs": [
    {
     "data": {
      "text/plain": [
       "0"
      ]
     },
     "execution_count": 34,
     "metadata": {},
     "output_type": "execute_result"
    }
   ],
   "source": [
    "2//5"
   ]
  },
  {
   "cell_type": "code",
   "execution_count": 35,
   "id": "8435587d",
   "metadata": {
    "ExecuteTime": {
     "end_time": "2024-01-21T15:18:53.809432Z",
     "start_time": "2024-01-21T15:18:53.805349Z"
    }
   },
   "outputs": [
    {
     "data": {
      "text/plain": [
       "int"
      ]
     },
     "execution_count": 35,
     "metadata": {},
     "output_type": "execute_result"
    }
   ],
   "source": [
    "ans2 = 2//5\n",
    "type(ans2)"
   ]
  },
  {
   "cell_type": "code",
   "execution_count": 36,
   "id": "605c104f",
   "metadata": {
    "ExecuteTime": {
     "end_time": "2024-01-21T15:18:58.077230Z",
     "start_time": "2024-01-21T15:18:58.073412Z"
    }
   },
   "outputs": [
    {
     "data": {
      "text/plain": [
       "3.3333333333333335"
      ]
     },
     "execution_count": 36,
     "metadata": {},
     "output_type": "execute_result"
    }
   ],
   "source": [
    "10/3"
   ]
  },
  {
   "cell_type": "code",
   "execution_count": 37,
   "id": "cc3a2ca5",
   "metadata": {
    "ExecuteTime": {
     "end_time": "2024-01-21T15:18:58.756107Z",
     "start_time": "2024-01-21T15:18:58.753076Z"
    }
   },
   "outputs": [
    {
     "data": {
      "text/plain": [
       "3"
      ]
     },
     "execution_count": 37,
     "metadata": {},
     "output_type": "execute_result"
    }
   ],
   "source": [
    "10//3"
   ]
  },
  {
   "cell_type": "code",
   "execution_count": 38,
   "id": "54a43081",
   "metadata": {
    "ExecuteTime": {
     "end_time": "2024-01-21T15:18:59.412949Z",
     "start_time": "2024-01-21T15:18:59.408169Z"
    }
   },
   "outputs": [
    {
     "data": {
      "text/plain": [
       "1"
      ]
     },
     "execution_count": 38,
     "metadata": {},
     "output_type": "execute_result"
    }
   ],
   "source": [
    "# modulo\n",
    "# the remainder after devision\n",
    "\n",
    "10 % 3"
   ]
  },
  {
   "cell_type": "code",
   "execution_count": 39,
   "id": "7a228815",
   "metadata": {
    "ExecuteTime": {
     "end_time": "2024-01-21T15:19:00.880874Z",
     "start_time": "2024-01-21T15:19:00.867013Z"
    }
   },
   "outputs": [
    {
     "ename": "ZeroDivisionError",
     "evalue": "division by zero",
     "output_type": "error",
     "traceback": [
      "\u001b[0;31m---------------------------------------------------------------------------\u001b[0m",
      "\u001b[0;31mZeroDivisionError\u001b[0m                         Traceback (most recent call last)",
      "Cell \u001b[0;32mIn[39], line 1\u001b[0m\n\u001b[0;32m----> 1\u001b[0m \u001b[38;5;241m2\u001b[39m\u001b[38;5;241m/\u001b[39m\u001b[38;5;241m0\u001b[39m\n",
      "\u001b[0;31mZeroDivisionError\u001b[0m: division by zero"
     ]
    }
   ],
   "source": [
    "2/0"
   ]
  },
  {
   "cell_type": "code",
   "execution_count": 40,
   "id": "afb64042",
   "metadata": {
    "ExecuteTime": {
     "end_time": "2024-01-21T15:19:02.187438Z",
     "start_time": "2024-01-21T15:19:02.185036Z"
    }
   },
   "outputs": [],
   "source": [
    "# #############################################################################################################"
   ]
  },
  {
   "cell_type": "code",
   "execution_count": 41,
   "id": "df804cce",
   "metadata": {
    "ExecuteTime": {
     "end_time": "2024-01-21T15:19:02.910186Z",
     "start_time": "2024-01-21T15:19:02.907633Z"
    }
   },
   "outputs": [],
   "source": [
    "# --------------------------------STRINGS--------------------------------------------\n",
    "# -----------------------------------------------------------------------------------"
   ]
  },
  {
   "cell_type": "code",
   "execution_count": 42,
   "id": "d2614963",
   "metadata": {
    "ExecuteTime": {
     "end_time": "2024-01-21T15:20:08.583957Z",
     "start_time": "2024-01-21T15:20:08.580668Z"
    }
   },
   "outputs": [
    {
     "data": {
      "text/plain": [
       "'sup dog!'"
      ]
     },
     "execution_count": 42,
     "metadata": {},
     "output_type": "execute_result"
    }
   ],
   "source": [
    "# single quotes\n",
    "'sup dog!'"
   ]
  },
  {
   "cell_type": "code",
   "execution_count": 43,
   "id": "19f1ef0a",
   "metadata": {
    "ExecuteTime": {
     "end_time": "2024-01-21T15:20:19.107068Z",
     "start_time": "2024-01-21T15:20:19.103103Z"
    }
   },
   "outputs": [
    {
     "data": {
      "text/plain": [
       "'sup dog!'"
      ]
     },
     "execution_count": 43,
     "metadata": {},
     "output_type": "execute_result"
    }
   ],
   "source": [
    "# double quotes\n",
    "\"sup dog!\""
   ]
  },
  {
   "cell_type": "code",
   "execution_count": 44,
   "id": "de2fdbb2",
   "metadata": {
    "ExecuteTime": {
     "end_time": "2024-01-21T15:22:11.862413Z",
     "start_time": "2024-01-21T15:22:11.858688Z"
    }
   },
   "outputs": [
    {
     "data": {
      "text/plain": [
       "'\\nHello. My name is\\nSup Dog.\\nHow are you?\\n'"
      ]
     },
     "execution_count": 44,
     "metadata": {},
     "output_type": "execute_result"
    }
   ],
   "source": [
    "# triple quotes\n",
    "'''\n",
    "Hello. My name is\n",
    "Sup Dog.\n",
    "How are you?\n",
    "'''"
   ]
  },
  {
   "cell_type": "code",
   "execution_count": 46,
   "id": "27b07b91",
   "metadata": {
    "ExecuteTime": {
     "end_time": "2024-01-21T15:26:22.901580Z",
     "start_time": "2024-01-21T15:26:22.898537Z"
    }
   },
   "outputs": [
    {
     "name": "stdout",
     "output_type": "stream",
     "text": [
      "Hello sup dog! How are you?\n"
     ]
    }
   ],
   "source": [
    "# f string --> formatted string\n",
    "first_name = 'sup'\n",
    "last_name = 'dog'\n",
    "print(f'Hello {first_name} {last_name}! How are you?')"
   ]
  },
  {
   "cell_type": "code",
   "execution_count": 47,
   "id": "79959fa3",
   "metadata": {
    "ExecuteTime": {
     "end_time": "2024-01-21T15:29:40.157633Z",
     "start_time": "2024-01-21T15:29:40.155298Z"
    }
   },
   "outputs": [],
   "source": [
    "# #############################################################################################################"
   ]
  },
  {
   "cell_type": "code",
   "execution_count": 48,
   "id": "629d6fc1",
   "metadata": {
    "ExecuteTime": {
     "end_time": "2024-01-21T15:29:59.449758Z",
     "start_time": "2024-01-21T15:29:59.447610Z"
    }
   },
   "outputs": [],
   "source": [
    "# --------------------------------LISTS--------------------------------------------\n",
    "# -----------------------------------------------------------------------------------"
   ]
  },
  {
   "cell_type": "code",
   "execution_count": 49,
   "id": "d5237940",
   "metadata": {
    "ExecuteTime": {
     "end_time": "2024-01-21T15:30:43.698550Z",
     "start_time": "2024-01-21T15:30:43.696652Z"
    }
   },
   "outputs": [],
   "source": [
    "# Lists are the same as JavaScript arrays"
   ]
  },
  {
   "cell_type": "code",
   "execution_count": 50,
   "id": "54908157",
   "metadata": {
    "ExecuteTime": {
     "end_time": "2024-01-21T15:31:53.164133Z",
     "start_time": "2024-01-21T15:31:53.159859Z"
    }
   },
   "outputs": [
    {
     "data": {
      "text/plain": [
       "[1, 'Jessica', 3, 'Wyatt', 'Pepper', 'Briar']"
      ]
     },
     "execution_count": 50,
     "metadata": {},
     "output_type": "execute_result"
    }
   ],
   "source": [
    "my_family = [1, 'Jessica', 3, 'Wyatt', 'Pepper', 'Briar']\n",
    "my_family"
   ]
  },
  {
   "cell_type": "code",
   "execution_count": 51,
   "id": "86db1448",
   "metadata": {
    "ExecuteTime": {
     "end_time": "2024-01-21T15:33:03.726915Z",
     "start_time": "2024-01-21T15:33:03.724157Z"
    }
   },
   "outputs": [],
   "source": [
    "# #############################################################################################################"
   ]
  },
  {
   "cell_type": "code",
   "execution_count": 52,
   "id": "79fa06f3",
   "metadata": {
    "ExecuteTime": {
     "end_time": "2024-01-21T15:33:15.191759Z",
     "start_time": "2024-01-21T15:33:15.189554Z"
    }
   },
   "outputs": [],
   "source": [
    "# --------------------------------BOOLEANS--------------------------------------------\n",
    "# -----------------------------------------------------------------------------------"
   ]
  },
  {
   "cell_type": "code",
   "execution_count": 53,
   "id": "61657cdb",
   "metadata": {
    "ExecuteTime": {
     "end_time": "2024-01-21T15:33:50.700763Z",
     "start_time": "2024-01-21T15:33:50.697804Z"
    }
   },
   "outputs": [
    {
     "data": {
      "text/plain": [
       "True"
      ]
     },
     "execution_count": 53,
     "metadata": {},
     "output_type": "execute_result"
    }
   ],
   "source": [
    "True"
   ]
  },
  {
   "cell_type": "code",
   "execution_count": 54,
   "id": "5f7ef7c7",
   "metadata": {
    "ExecuteTime": {
     "end_time": "2024-01-21T15:34:01.999686Z",
     "start_time": "2024-01-21T15:34:01.996638Z"
    }
   },
   "outputs": [
    {
     "data": {
      "text/plain": [
       "bool"
      ]
     },
     "execution_count": 54,
     "metadata": {},
     "output_type": "execute_result"
    }
   ],
   "source": [
    "type(True)"
   ]
  },
  {
   "cell_type": "code",
   "execution_count": 55,
   "id": "cef2d3b8",
   "metadata": {
    "ExecuteTime": {
     "end_time": "2024-01-21T15:34:52.654732Z",
     "start_time": "2024-01-21T15:34:52.650677Z"
    }
   },
   "outputs": [
    {
     "data": {
      "text/plain": [
       "bool"
      ]
     },
     "execution_count": 55,
     "metadata": {},
     "output_type": "execute_result"
    }
   ],
   "source": [
    "has_kids = True\n",
    "type(has_kids)"
   ]
  },
  {
   "cell_type": "code",
   "execution_count": 56,
   "id": "e3537b4b",
   "metadata": {
    "ExecuteTime": {
     "end_time": "2024-01-21T15:35:19.183948Z",
     "start_time": "2024-01-21T15:35:19.180011Z"
    }
   },
   "outputs": [
    {
     "data": {
      "text/plain": [
       "bool"
      ]
     },
     "execution_count": 56,
     "metadata": {},
     "output_type": "execute_result"
    }
   ],
   "source": [
    "has_good_job = False\n",
    "type(has_good_job)"
   ]
  },
  {
   "cell_type": "code",
   "execution_count": 57,
   "id": "65cee01a",
   "metadata": {
    "ExecuteTime": {
     "end_time": "2024-01-21T15:35:41.351991Z",
     "start_time": "2024-01-21T15:35:41.348965Z"
    }
   },
   "outputs": [
    {
     "data": {
      "text/plain": [
       "False"
      ]
     },
     "execution_count": 57,
     "metadata": {},
     "output_type": "execute_result"
    }
   ],
   "source": [
    "4 > 5"
   ]
  },
  {
   "cell_type": "code",
   "execution_count": 58,
   "id": "7b6cb486",
   "metadata": {
    "ExecuteTime": {
     "end_time": "2024-01-21T15:35:50.514640Z",
     "start_time": "2024-01-21T15:35:50.511282Z"
    }
   },
   "outputs": [
    {
     "data": {
      "text/plain": [
       "True"
      ]
     },
     "execution_count": 58,
     "metadata": {},
     "output_type": "execute_result"
    }
   ],
   "source": [
    "5 > 4"
   ]
  },
  {
   "cell_type": "code",
   "execution_count": 59,
   "id": "1f10e8a5",
   "metadata": {
    "ExecuteTime": {
     "end_time": "2024-01-21T15:36:16.076489Z",
     "start_time": "2024-01-21T15:36:16.072670Z"
    }
   },
   "outputs": [
    {
     "data": {
      "text/plain": [
       "True"
      ]
     },
     "execution_count": 59,
     "metadata": {},
     "output_type": "execute_result"
    }
   ],
   "source": [
    "(4*5) > (3*3)"
   ]
  },
  {
   "cell_type": "code",
   "execution_count": 60,
   "id": "6c404e7b",
   "metadata": {
    "ExecuteTime": {
     "end_time": "2024-01-21T15:37:16.520434Z",
     "start_time": "2024-01-21T15:37:16.518015Z"
    }
   },
   "outputs": [],
   "source": [
    "# #############################################################################################################"
   ]
  },
  {
   "cell_type": "code",
   "execution_count": 62,
   "id": "05bb9d8c",
   "metadata": {
    "ExecuteTime": {
     "end_time": "2024-01-21T15:46:56.881707Z",
     "start_time": "2024-01-21T15:46:56.878510Z"
    }
   },
   "outputs": [],
   "source": [
    "# --------------------------------EQUALITY--------------------------------------------\n",
    "# -----------------------------------------------------------------------------------"
   ]
  },
  {
   "cell_type": "code",
   "execution_count": 64,
   "id": "bfab6248",
   "metadata": {
    "ExecuteTime": {
     "end_time": "2024-01-21T15:51:51.575034Z",
     "start_time": "2024-01-21T15:51:51.570390Z"
    }
   },
   "outputs": [
    {
     "data": {
      "text/plain": [
       "False"
      ]
     },
     "execution_count": 64,
     "metadata": {},
     "output_type": "execute_result"
    }
   ],
   "source": [
    "# == EQUAL (strick about types)\n",
    "7 == '7' # False"
   ]
  },
  {
   "cell_type": "code",
   "execution_count": 66,
   "id": "f88993ca",
   "metadata": {
    "ExecuteTime": {
     "end_time": "2024-01-21T15:52:23.345940Z",
     "start_time": "2024-01-21T15:52:23.341858Z"
    }
   },
   "outputs": [
    {
     "data": {
      "text/plain": [
       "True"
      ]
     },
     "execution_count": 66,
     "metadata": {},
     "output_type": "execute_result"
    }
   ],
   "source": [
    "# structures with same itmes are equal\n",
    "[1,2,3] == [1,2,3]"
   ]
  },
  {
   "cell_type": "code",
   "execution_count": 67,
   "id": "f1a58745",
   "metadata": {
    "ExecuteTime": {
     "end_time": "2024-01-21T15:53:02.600202Z",
     "start_time": "2024-01-21T15:53:02.596316Z"
    }
   },
   "outputs": [
    {
     "data": {
      "text/plain": [
       "False"
      ]
     },
     "execution_count": 67,
     "metadata": {},
     "output_type": "execute_result"
    }
   ],
   "source": [
    "# use 'is' to check obj identity (reference in memory)\n",
    "[1,2] is [1,2]"
   ]
  },
  {
   "cell_type": "code",
   "execution_count": 72,
   "id": "a81380e5",
   "metadata": {
    "ExecuteTime": {
     "end_time": "2024-01-21T15:58:04.295072Z",
     "start_time": "2024-01-21T15:58:04.290888Z"
    }
   },
   "outputs": [
    {
     "data": {
      "text/plain": [
       "True"
      ]
     },
     "execution_count": 72,
     "metadata": {},
     "output_type": "execute_result"
    }
   ],
   "source": [
    "nums = [1,2,3]\n",
    "copy = nums\n",
    "nums is copy"
   ]
  },
  {
   "cell_type": "code",
   "execution_count": 73,
   "id": "55cc956b",
   "metadata": {
    "ExecuteTime": {
     "end_time": "2024-01-21T15:59:10.654956Z",
     "start_time": "2024-01-21T15:59:10.650776Z"
    }
   },
   "outputs": [
    {
     "data": {
      "text/plain": [
       "True"
      ]
     },
     "execution_count": 73,
     "metadata": {},
     "output_type": "execute_result"
    }
   ],
   "source": [
    "[1,2,3] is not [1,2,3]"
   ]
  },
  {
   "cell_type": "code",
   "execution_count": 70,
   "id": "89545311",
   "metadata": {
    "ExecuteTime": {
     "end_time": "2024-01-21T15:56:26.651207Z",
     "start_time": "2024-01-21T15:56:26.647663Z"
    }
   },
   "outputs": [
    {
     "data": {
      "text/plain": [
       "False"
      ]
     },
     "execution_count": 70,
     "metadata": {},
     "output_type": "execute_result"
    }
   ],
   "source": [
    "# != NOT EQUAL\n",
    "1 != 1"
   ]
  },
  {
   "cell_type": "code",
   "execution_count": 71,
   "id": "4fd91bbe",
   "metadata": {
    "ExecuteTime": {
     "end_time": "2024-01-21T15:56:27.649588Z",
     "start_time": "2024-01-21T15:56:27.645733Z"
    }
   },
   "outputs": [
    {
     "data": {
      "text/plain": [
       "True"
      ]
     },
     "execution_count": 71,
     "metadata": {},
     "output_type": "execute_result"
    }
   ],
   "source": [
    "1 != '1'"
   ]
  },
  {
   "cell_type": "code",
   "execution_count": 74,
   "id": "7033cfe3",
   "metadata": {
    "ExecuteTime": {
     "end_time": "2024-01-21T16:02:39.641256Z",
     "start_time": "2024-01-21T16:02:39.637875Z"
    }
   },
   "outputs": [],
   "source": [
    "# #############################################################################################################"
   ]
  },
  {
   "cell_type": "code",
   "execution_count": 75,
   "id": "d33779cc",
   "metadata": {
    "ExecuteTime": {
     "end_time": "2024-01-21T16:03:02.747662Z",
     "start_time": "2024-01-21T16:03:02.745326Z"
    }
   },
   "outputs": [],
   "source": [
    "# --------------------------------CONDITIONAL LOGIC--------------------------------------------\n",
    "# -----------------------------------------------------------------------------------"
   ]
  },
  {
   "cell_type": "code",
   "execution_count": 79,
   "id": "5afc7522",
   "metadata": {
    "ExecuteTime": {
     "end_time": "2024-01-21T16:05:53.228007Z",
     "start_time": "2024-01-21T16:05:53.224576Z"
    }
   },
   "outputs": [
    {
     "name": "stdout",
     "output_type": "stream",
     "text": [
      "keep voting for democrats\n"
     ]
    }
   ],
   "source": [
    "# if statements\n",
    "age = 21\n",
    "unregistered = False\n",
    "if age >= 18:\n",
    "    if unregistered:\n",
    "        print('please register!')\n",
    "    else:\n",
    "        print('keep voting for democrats')\n",
    "else:\n",
    "    print('come back when you are 18')\n"
   ]
  },
  {
   "cell_type": "code",
   "execution_count": 86,
   "id": "9685523d",
   "metadata": {
    "ExecuteTime": {
     "end_time": "2024-01-21T16:14:02.819162Z",
     "start_time": "2024-01-21T16:14:02.815538Z"
    }
   },
   "outputs": [
    {
     "name": "stdout",
     "output_type": "stream",
     "text": [
      "Come on in!\n",
      "Drink up! First shot is on us!\n"
     ]
    }
   ],
   "source": [
    "age = 21\n",
    "is_birthday = True\n",
    "if age >= 21:\n",
    "    print('Come on in!')\n",
    "    if is_birthday:\n",
    "        print('Drink up! First shot is on us!')\n",
    "elif age >= 18:\n",
    "    print(\"here's a wristband. NO ALCOHOL FOR YOU. Enjoy the show!\")\n",
    "    if is_birthday:\n",
    "        print('Happy birthday youngester! Come in, but NO ALCOHOL!')\n",
    "else:\n",
    "    print('Beat it kid! Gotta be 18 to get in!')"
   ]
  },
  {
   "cell_type": "code",
   "execution_count": 87,
   "id": "dff7972a",
   "metadata": {
    "ExecuteTime": {
     "end_time": "2024-01-21T16:16:02.976030Z",
     "start_time": "2024-01-21T16:16:02.973424Z"
    }
   },
   "outputs": [],
   "source": [
    "# #############################################################################################################"
   ]
  },
  {
   "cell_type": "code",
   "execution_count": 88,
   "id": "52ad7a38",
   "metadata": {
    "ExecuteTime": {
     "end_time": "2024-01-21T16:16:23.963721Z",
     "start_time": "2024-01-21T16:16:23.961345Z"
    }
   },
   "outputs": [],
   "source": [
    "# --------------------------------TERNARY--------------------------------------------\n",
    "# -----------------------------------------------------------------------------------"
   ]
  },
  {
   "cell_type": "code",
   "execution_count": 91,
   "id": "17f1fd18",
   "metadata": {
    "ExecuteTime": {
     "end_time": "2024-01-21T16:19:22.770150Z",
     "start_time": "2024-01-21T16:19:22.767285Z"
    }
   },
   "outputs": [
    {
     "name": "stdout",
     "output_type": "stream",
     "text": [
      "go play!\n"
     ]
    }
   ],
   "source": [
    "age = 17\n",
    "msg = 'go vote!' if (age >= 18) else 'go play!'\n",
    "print(msg)"
   ]
  },
  {
   "cell_type": "code",
   "execution_count": 93,
   "id": "9983be16",
   "metadata": {
    "ExecuteTime": {
     "end_time": "2024-01-21T16:20:28.098345Z",
     "start_time": "2024-01-21T16:20:28.095342Z"
    }
   },
   "outputs": [
    {
     "name": "stdout",
     "output_type": "stream",
     "text": [
      "I love that color\n"
     ]
    }
   ],
   "source": [
    "color = 'orange'\n",
    "print('I love that color') if color == 'orange' else print('that color is ok')"
   ]
  },
  {
   "cell_type": "code",
   "execution_count": 94,
   "id": "b4ec7cb1",
   "metadata": {
    "ExecuteTime": {
     "end_time": "2024-01-21T16:22:39.518047Z",
     "start_time": "2024-01-21T16:22:39.515692Z"
    }
   },
   "outputs": [],
   "source": [
    "# #############################################################################################################"
   ]
  },
  {
   "cell_type": "code",
   "execution_count": 95,
   "id": "4f403bc8",
   "metadata": {
    "ExecuteTime": {
     "end_time": "2024-01-21T16:23:03.488656Z",
     "start_time": "2024-01-21T16:23:03.486821Z"
    }
   },
   "outputs": [],
   "source": [
    "# --------------------------------BOOLEAN OPERATIONS--------------------------------------------\n",
    "# -----------------------------------------------------------------------------------"
   ]
  },
  {
   "cell_type": "code",
   "execution_count": 96,
   "id": "2c4f6e49",
   "metadata": {
    "ExecuteTime": {
     "end_time": "2024-01-21T16:24:20.341473Z",
     "start_time": "2024-01-21T16:24:20.337713Z"
    }
   },
   "outputs": [
    {
     "data": {
      "text/plain": [
       "False"
      ]
     },
     "execution_count": 96,
     "metadata": {},
     "output_type": "execute_result"
    }
   ],
   "source": [
    "# with 'and' both sides have to be True\n",
    "True and False"
   ]
  },
  {
   "cell_type": "code",
   "execution_count": 97,
   "id": "a16a094b",
   "metadata": {
    "ExecuteTime": {
     "end_time": "2024-01-21T16:24:37.935666Z",
     "start_time": "2024-01-21T16:24:37.931730Z"
    }
   },
   "outputs": [
    {
     "data": {
      "text/plain": [
       "True"
      ]
     },
     "execution_count": 97,
     "metadata": {},
     "output_type": "execute_result"
    }
   ],
   "source": [
    "True and True"
   ]
  },
  {
   "cell_type": "code",
   "execution_count": 98,
   "id": "7d0ea8c3",
   "metadata": {
    "ExecuteTime": {
     "end_time": "2024-01-21T16:25:11.766473Z",
     "start_time": "2024-01-21T16:25:11.762667Z"
    }
   },
   "outputs": [
    {
     "data": {
      "text/plain": [
       "True"
      ]
     },
     "execution_count": 98,
     "metadata": {},
     "output_type": "execute_result"
    }
   ],
   "source": [
    "# with 'or' either side needs to be True\n",
    "True or False"
   ]
  },
  {
   "cell_type": "code",
   "execution_count": 99,
   "id": "9283b482",
   "metadata": {
    "ExecuteTime": {
     "end_time": "2024-01-21T16:25:29.434714Z",
     "start_time": "2024-01-21T16:25:29.430517Z"
    }
   },
   "outputs": [
    {
     "data": {
      "text/plain": [
       "False"
      ]
     },
     "execution_count": 99,
     "metadata": {},
     "output_type": "execute_result"
    }
   ],
   "source": [
    "False or False"
   ]
  },
  {
   "cell_type": "code",
   "execution_count": 100,
   "id": "865886c7",
   "metadata": {
    "ExecuteTime": {
     "end_time": "2024-01-21T16:26:14.389335Z",
     "start_time": "2024-01-21T16:26:14.385517Z"
    }
   },
   "outputs": [
    {
     "data": {
      "text/plain": [
       "True"
      ]
     },
     "execution_count": 100,
     "metadata": {},
     "output_type": "execute_result"
    }
   ],
   "source": [
    "not False"
   ]
  },
  {
   "cell_type": "code",
   "execution_count": 101,
   "id": "7f3f40d9",
   "metadata": {
    "ExecuteTime": {
     "end_time": "2024-01-21T16:26:23.967482Z",
     "start_time": "2024-01-21T16:26:23.963447Z"
    }
   },
   "outputs": [
    {
     "data": {
      "text/plain": [
       "False"
      ]
     },
     "execution_count": 101,
     "metadata": {},
     "output_type": "execute_result"
    }
   ],
   "source": [
    "not True"
   ]
  },
  {
   "cell_type": "code",
   "execution_count": 102,
   "id": "6f239651",
   "metadata": {
    "ExecuteTime": {
     "end_time": "2024-01-21T16:27:07.876208Z",
     "start_time": "2024-01-21T16:27:07.872346Z"
    }
   },
   "outputs": [
    {
     "data": {
      "text/plain": [
       "True"
      ]
     },
     "execution_count": 102,
     "metadata": {},
     "output_type": "execute_result"
    }
   ],
   "source": [
    "x = 102\n",
    "x == 103 or x > 100"
   ]
  },
  {
   "cell_type": "code",
   "execution_count": 107,
   "id": "1fd3da6a",
   "metadata": {
    "ExecuteTime": {
     "end_time": "2024-01-21T16:32:48.118504Z",
     "start_time": "2024-01-21T16:32:48.115401Z"
    }
   },
   "outputs": [
    {
     "name": "stdout",
     "output_type": "stream",
     "text": [
      "your ticket is $5\n"
     ]
    }
   ],
   "source": [
    "age = 69\n",
    "if age < 10 or age >= 65:\n",
    "    print('your ticket is $5')\n",
    "else:\n",
    "    print('your ticker is $10')"
   ]
  },
  {
   "cell_type": "code",
   "execution_count": 108,
   "id": "c753919e",
   "metadata": {
    "ExecuteTime": {
     "end_time": "2024-01-21T16:32:59.321830Z",
     "start_time": "2024-01-21T16:32:59.319341Z"
    }
   },
   "outputs": [],
   "source": [
    "# #############################################################################################################"
   ]
  },
  {
   "cell_type": "code",
   "execution_count": 109,
   "id": "d83c3833",
   "metadata": {
    "ExecuteTime": {
     "end_time": "2024-01-21T16:33:25.832995Z",
     "start_time": "2024-01-21T16:33:25.830742Z"
    }
   },
   "outputs": [],
   "source": [
    "# --------------------------------WHILE LOOPS--------------------------------------------\n",
    "# -----------------------------------------------------------------------------------"
   ]
  },
  {
   "cell_type": "code",
   "execution_count": 110,
   "id": "e0697ef4",
   "metadata": {
    "ExecuteTime": {
     "end_time": "2024-01-21T16:34:54.914751Z",
     "start_time": "2024-01-21T16:34:54.911476Z"
    }
   },
   "outputs": [
    {
     "name": "stdout",
     "output_type": "stream",
     "text": [
      "10\n",
      "9\n",
      "8\n",
      "7\n",
      "6\n",
      "5\n",
      "4\n",
      "3\n",
      "2\n",
      "1\n",
      "Lift off!\n"
     ]
    }
   ],
   "source": [
    "count = 10\n",
    "while count > 0:\n",
    "    print(count)\n",
    "    count = count - 1\n",
    "\n",
    "print('Lift off!')"
   ]
  },
  {
   "cell_type": "code",
   "execution_count": 111,
   "id": "03fc13e5",
   "metadata": {
    "ExecuteTime": {
     "end_time": "2024-01-21T16:36:52.663951Z",
     "start_time": "2024-01-21T16:36:52.661058Z"
    }
   },
   "outputs": [
    {
     "name": "stdout",
     "output_type": "stream",
     "text": [
      "0\n",
      "10\n",
      "20\n",
      "30\n",
      "40\n",
      "50\n",
      "60\n",
      "70\n",
      "80\n",
      "90\n",
      "100\n",
      "all done!\n"
     ]
    }
   ],
   "source": [
    "num = 0\n",
    "\n",
    "while num <= 100:\n",
    "    print(num)\n",
    "    num = num + 10\n",
    "    \n",
    "print('all done!')"
   ]
  },
  {
   "cell_type": "code",
   "execution_count": 112,
   "id": "d550cf46",
   "metadata": {
    "ExecuteTime": {
     "end_time": "2024-01-21T16:42:29.776916Z",
     "start_time": "2024-01-21T16:42:24.078744Z"
    }
   },
   "outputs": [
    {
     "name": "stdout",
     "output_type": "stream",
     "text": [
      "enter your guess444\n"
     ]
    }
   ],
   "source": [
    "guess = input('enter your guess')"
   ]
  },
  {
   "cell_type": "code",
   "execution_count": null,
   "id": "6e9303c4",
   "metadata": {
    "ExecuteTime": {
     "start_time": "2024-01-21T16:47:13.595Z"
    }
   },
   "outputs": [],
   "source": [
    "guess"
   ]
  },
  {
   "cell_type": "code",
   "execution_count": 1,
   "id": "a8345e43",
   "metadata": {
    "ExecuteTime": {
     "end_time": "2024-01-21T16:51:31.776940Z",
     "start_time": "2024-01-21T16:50:13.229123Z"
    }
   },
   "outputs": [
    {
     "name": "stdout",
     "output_type": "stream",
     "text": [
      "please enter your guess6\n",
      "keep guessing!\n",
      "please enter your guess2\n",
      "keep guessing!\n",
      "please enter your guess6\n",
      "keep guessing!\n",
      "please enter your guess8\n",
      "keep guessing!\n",
      "please enter your guess7\n",
      "keep guessing!\n",
      "please enter your guess9\n",
      "keep guessing!\n",
      "please enter your guess5\n",
      "keep guessing!\n",
      "please enter your guess3\n",
      "keep guessing!\n",
      "please enter your guess4\n",
      "keep guessing!\n",
      "YOU GUESSED IT! YAY!\n"
     ]
    }
   ],
   "source": [
    "target = 4\n",
    "guess = None\n",
    "\n",
    "while guess != target:\n",
    "    guess = input('please enter your guess')\n",
    "    guess = int(guess)\n",
    "    print('keep guessing!')\n",
    "    \n",
    "print('YOU GUESSED IT! YAY!')"
   ]
  },
  {
   "cell_type": "code",
   "execution_count": null,
   "id": "e5f43ded",
   "metadata": {},
   "outputs": [],
   "source": []
  }
 ],
 "metadata": {
  "kernelspec": {
   "display_name": "Python 3 (ipykernel)",
   "language": "python",
   "name": "python3"
  },
  "language_info": {
   "codemirror_mode": {
    "name": "ipython",
    "version": 3
   },
   "file_extension": ".py",
   "mimetype": "text/x-python",
   "name": "python",
   "nbconvert_exporter": "python",
   "pygments_lexer": "ipython3",
   "version": "3.11.5"
  },
  "varInspector": {
   "cols": {
    "lenName": 16,
    "lenType": 16,
    "lenVar": 40
   },
   "kernels_config": {
    "python": {
     "delete_cmd_postfix": "",
     "delete_cmd_prefix": "del ",
     "library": "var_list.py",
     "varRefreshCmd": "print(var_dic_list())"
    },
    "r": {
     "delete_cmd_postfix": ") ",
     "delete_cmd_prefix": "rm(",
     "library": "var_list.r",
     "varRefreshCmd": "cat(var_dic_list()) "
    }
   },
   "types_to_exclude": [
    "module",
    "function",
    "builtin_function_or_method",
    "instance",
    "_Feature"
   ],
   "window_display": false
  }
 },
 "nbformat": 4,
 "nbformat_minor": 5
}
