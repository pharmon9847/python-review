{
 "cells": [
  {
   "cell_type": "code",
   "execution_count": 1,
   "id": "155e3e54",
   "metadata": {
    "ExecuteTime": {
     "end_time": "2024-01-22T16:06:42.491802Z",
     "start_time": "2024-01-22T16:06:42.489281Z"
    }
   },
   "outputs": [],
   "source": [
    "########################### DATA STRUCTURES #########################################"
   ]
  },
  {
   "cell_type": "code",
   "execution_count": 2,
   "id": "847a5fc6",
   "metadata": {
    "ExecuteTime": {
     "end_time": "2024-01-22T16:07:13.989632Z",
     "start_time": "2024-01-22T16:07:13.987160Z"
    }
   },
   "outputs": [],
   "source": [
    "# --------------------------------------------------------------------------------- #"
   ]
  },
  {
   "cell_type": "code",
   "execution_count": 3,
   "id": "b024b64d",
   "metadata": {
    "ExecuteTime": {
     "end_time": "2024-01-22T16:07:41.842541Z",
     "start_time": "2024-01-22T16:07:41.840235Z"
    }
   },
   "outputs": [],
   "source": [
    "# ------------------------------LEN--------------------------------------------------"
   ]
  },
  {
   "cell_type": "code",
   "execution_count": 4,
   "id": "c35b18cb",
   "metadata": {
    "ExecuteTime": {
     "end_time": "2024-01-22T16:17:48.575739Z",
     "start_time": "2024-01-22T16:17:48.559835Z"
    }
   },
   "outputs": [],
   "source": [
    "# len(x) returns the length of x:\n",
    "# -chars in string\n",
    "# -items in list\n",
    "# -itmes in dictionary\n",
    "# -items in set"
   ]
  },
  {
   "cell_type": "code",
   "execution_count": 5,
   "id": "87e45faf",
   "metadata": {
    "ExecuteTime": {
     "end_time": "2024-01-22T16:17:57.098220Z",
     "start_time": "2024-01-22T16:17:57.092153Z"
    }
   },
   "outputs": [
    {
     "data": {
      "text/plain": [
       "26"
      ]
     },
     "execution_count": 5,
     "metadata": {},
     "output_type": "execute_result"
    }
   ],
   "source": [
    "len('dfhksdjfhsudfyisurthkwjerh')"
   ]
  },
  {
   "cell_type": "code",
   "execution_count": 6,
   "id": "9690ab4a",
   "metadata": {
    "ExecuteTime": {
     "end_time": "2024-01-22T16:18:16.051372Z",
     "start_time": "2024-01-22T16:18:16.046998Z"
    }
   },
   "outputs": [
    {
     "data": {
      "text/plain": [
       "9"
      ]
     },
     "execution_count": 6,
     "metadata": {},
     "output_type": "execute_result"
    }
   ],
   "source": [
    "len([1,2,3,4,5,6,7,8,9])"
   ]
  },
  {
   "cell_type": "code",
   "execution_count": 7,
   "id": "fde4dff9",
   "metadata": {
    "ExecuteTime": {
     "end_time": "2024-01-22T16:19:19.422218Z",
     "start_time": "2024-01-22T16:19:19.419911Z"
    }
   },
   "outputs": [],
   "source": [
    "# --------------------------------------------------------------------------------- #"
   ]
  },
  {
   "cell_type": "code",
   "execution_count": 8,
   "id": "34943dfc",
   "metadata": {
    "ExecuteTime": {
     "end_time": "2024-01-22T16:19:42.229014Z",
     "start_time": "2024-01-22T16:19:42.226594Z"
    }
   },
   "outputs": [],
   "source": [
    "# ------------------------------LISTS (CONT'D)--------------------------------------------------"
   ]
  },
  {
   "cell_type": "code",
   "execution_count": 9,
   "id": "61a84f29",
   "metadata": {
    "ExecuteTime": {
     "end_time": "2024-01-22T16:22:44.120316Z",
     "start_time": "2024-01-22T16:22:44.117616Z"
    }
   },
   "outputs": [],
   "source": [
    "scores = [45,99,100,78,88]\n",
    "office_peeps = ['Michael Scott', 'Dwight Schrute', 'Jim Halpert', 'Pam Beasley']"
   ]
  },
  {
   "cell_type": "code",
   "execution_count": 10,
   "id": "6ace264f",
   "metadata": {
    "ExecuteTime": {
     "end_time": "2024-01-22T16:22:48.650279Z",
     "start_time": "2024-01-22T16:22:48.646698Z"
    }
   },
   "outputs": [
    {
     "data": {
      "text/plain": [
       "[45, 99, 100, 78, 88]"
      ]
     },
     "execution_count": 10,
     "metadata": {},
     "output_type": "execute_result"
    }
   ],
   "source": [
    "scores"
   ]
  },
  {
   "cell_type": "code",
   "execution_count": 11,
   "id": "bf828137",
   "metadata": {
    "ExecuteTime": {
     "end_time": "2024-01-22T16:22:55.732318Z",
     "start_time": "2024-01-22T16:22:55.728679Z"
    }
   },
   "outputs": [
    {
     "data": {
      "text/plain": [
       "['Michael Scott', 'Dwight Schrute', 'Jim Halpert', 'Pam Beasley']"
      ]
     },
     "execution_count": 11,
     "metadata": {},
     "output_type": "execute_result"
    }
   ],
   "source": [
    "office_peeps"
   ]
  },
  {
   "cell_type": "code",
   "execution_count": 12,
   "id": "7fc9a9f4",
   "metadata": {
    "ExecuteTime": {
     "end_time": "2024-01-22T16:23:36.337642Z",
     "start_time": "2024-01-22T16:23:36.333542Z"
    }
   },
   "outputs": [
    {
     "data": {
      "text/plain": [
       "['S', 'u', 'p', ' ', 'D', 'o', 'g']"
      ]
     },
     "execution_count": 12,
     "metadata": {},
     "output_type": "execute_result"
    }
   ],
   "source": [
    "list('Sup Dog')"
   ]
  },
  {
   "cell_type": "code",
   "execution_count": 13,
   "id": "6ca4bad1",
   "metadata": {
    "ExecuteTime": {
     "end_time": "2024-01-22T16:24:18.432791Z",
     "start_time": "2024-01-22T16:24:18.428738Z"
    }
   },
   "outputs": [
    {
     "data": {
      "text/plain": [
       "[10, 20, 30, 40, 50, 60, 70, 80, 90]"
      ]
     },
     "execution_count": 13,
     "metadata": {},
     "output_type": "execute_result"
    }
   ],
   "source": [
    "list(range(10,100,10))"
   ]
  },
  {
   "cell_type": "code",
   "execution_count": 14,
   "id": "6a1926cd",
   "metadata": {
    "ExecuteTime": {
     "end_time": "2024-01-22T16:26:08.033699Z",
     "start_time": "2024-01-22T16:26:08.030300Z"
    }
   },
   "outputs": [
    {
     "name": "stdout",
     "output_type": "stream",
     "text": [
      "yum!\n",
      "damn it Jim!\n"
     ]
    }
   ],
   "source": [
    "foods = ['taco', 'hot dog', 'cheeseburger']\n",
    "\n",
    "if 'taco' in foods:\n",
    "    print('yum!')\n",
    "if 'cheese' not in foods:\n",
    "    print('damn it Jim!')"
   ]
  },
  {
   "cell_type": "code",
   "execution_count": 15,
   "id": "311a5953",
   "metadata": {
    "ExecuteTime": {
     "end_time": "2024-01-22T16:30:51.893829Z",
     "start_time": "2024-01-22T16:30:51.890147Z"
    }
   },
   "outputs": [
    {
     "name": "stdout",
     "output_type": "stream",
     "text": [
      "Yum! I love flour!\n",
      "Yum! I love apples!\n",
      "Yum! I love sugar!\n",
      "Cannot eat eggs! It is not vegan!\n",
      "Yum! I love salt!\n"
     ]
    }
   ],
   "source": [
    "vegan_no_nos = ['eggs', 'meat', 'milk', 'fish', 'figs']\n",
    "\n",
    "pie_ingredients = ['flour', 'apples', 'sugar', 'eggs', 'salt']\n",
    "\n",
    "for food in pie_ingredients:\n",
    "    if food in vegan_no_nos:\n",
    "        print(f'Cannot eat {food}! It is not vegan!')\n",
    "    else:\n",
    "        print(f'Yum! I love {food}!')"
   ]
  },
  {
   "cell_type": "code",
   "execution_count": 16,
   "id": "d748ac33",
   "metadata": {
    "ExecuteTime": {
     "end_time": "2024-01-22T16:32:10.675469Z",
     "start_time": "2024-01-22T16:32:10.671818Z"
    }
   },
   "outputs": [
    {
     "data": {
      "text/plain": [
       "'Dwight Schrute'"
      ]
     },
     "execution_count": 16,
     "metadata": {},
     "output_type": "execute_result"
    }
   ],
   "source": [
    "office_peeps[1]"
   ]
  },
  {
   "cell_type": "code",
   "execution_count": 17,
   "id": "b834971c",
   "metadata": {
    "ExecuteTime": {
     "end_time": "2024-01-22T16:34:48.925687Z",
     "start_time": "2024-01-22T16:34:48.921674Z"
    }
   },
   "outputs": [
    {
     "data": {
      "text/plain": [
       "'figs'"
      ]
     },
     "execution_count": 17,
     "metadata": {},
     "output_type": "execute_result"
    }
   ],
   "source": [
    "vegan_no_nos[-1]"
   ]
  },
  {
   "cell_type": "code",
   "execution_count": 18,
   "id": "65fab140",
   "metadata": {
    "ExecuteTime": {
     "end_time": "2024-01-22T16:34:57.243552Z",
     "start_time": "2024-01-22T16:34:57.239596Z"
    }
   },
   "outputs": [
    {
     "data": {
      "text/plain": [
       "'Pam Beasley'"
      ]
     },
     "execution_count": 18,
     "metadata": {},
     "output_type": "execute_result"
    }
   ],
   "source": [
    "office_peeps[-1]"
   ]
  },
  {
   "cell_type": "code",
   "execution_count": 19,
   "id": "e0232500",
   "metadata": {
    "ExecuteTime": {
     "end_time": "2024-01-22T16:36:25.882939Z",
     "start_time": "2024-01-22T16:36:25.879859Z"
    }
   },
   "outputs": [
    {
     "data": {
      "text/plain": [
       "['eggs', 'meat', 'dairy', 'fish', 'figs']"
      ]
     },
     "execution_count": 19,
     "metadata": {},
     "output_type": "execute_result"
    }
   ],
   "source": [
    "vegan_no_nos[2] = 'dairy'\n",
    "vegan_no_nos"
   ]
  },
  {
   "cell_type": "code",
   "execution_count": 20,
   "id": "9a409563",
   "metadata": {
    "ExecuteTime": {
     "end_time": "2024-01-22T16:40:50.359507Z",
     "start_time": "2024-01-22T16:40:50.355608Z"
    }
   },
   "outputs": [],
   "source": [
    "# --------------------------------------------------------------------------------- #"
   ]
  },
  {
   "cell_type": "code",
   "execution_count": 21,
   "id": "425d9c1f",
   "metadata": {
    "ExecuteTime": {
     "end_time": "2024-01-22T16:41:09.852420Z",
     "start_time": "2024-01-22T16:41:09.849887Z"
    }
   },
   "outputs": [],
   "source": [
    "# ------------------------------LISTS SLICING--------------------------------------------------"
   ]
  },
  {
   "cell_type": "code",
   "execution_count": 22,
   "id": "67d998a5",
   "metadata": {
    "ExecuteTime": {
     "end_time": "2024-01-22T16:43:52.891096Z",
     "start_time": "2024-01-22T16:43:52.881866Z"
    }
   },
   "outputs": [
    {
     "data": {
      "text/plain": [
       "['meat', 'dairy', 'fish']"
      ]
     },
     "execution_count": 22,
     "metadata": {},
     "output_type": "execute_result"
    }
   ],
   "source": [
    "vegan_no_nos[1:4:1]"
   ]
  },
  {
   "cell_type": "code",
   "execution_count": 23,
   "id": "4e9314ba",
   "metadata": {
    "ExecuteTime": {
     "end_time": "2024-01-22T16:44:47.642198Z",
     "start_time": "2024-01-22T16:44:47.637418Z"
    }
   },
   "outputs": [
    {
     "data": {
      "text/plain": [
       "['dairy', 'fish']"
      ]
     },
     "execution_count": 23,
     "metadata": {},
     "output_type": "execute_result"
    }
   ],
   "source": [
    "vegan_no_nos[2:4:1]"
   ]
  },
  {
   "cell_type": "code",
   "execution_count": 24,
   "id": "a20069a8",
   "metadata": {
    "ExecuteTime": {
     "end_time": "2024-01-22T16:46:42.031743Z",
     "start_time": "2024-01-22T16:46:42.027254Z"
    }
   },
   "outputs": [
    {
     "data": {
      "text/plain": [
       "[50, 51, 52, 53, 54, 55, 56, 57, 58, 59]"
      ]
     },
     "execution_count": 24,
     "metadata": {},
     "output_type": "execute_result"
    }
   ],
   "source": [
    "nums = list(range(0,100,1))\n",
    "nums[50:60:1]"
   ]
  },
  {
   "cell_type": "code",
   "execution_count": 25,
   "id": "40e63948",
   "metadata": {
    "ExecuteTime": {
     "end_time": "2024-01-22T16:47:06.730206Z",
     "start_time": "2024-01-22T16:47:06.726326Z"
    }
   },
   "outputs": [
    {
     "data": {
      "text/plain": [
       "[0, 10, 20, 30, 40, 50, 60, 70, 80, 90]"
      ]
     },
     "execution_count": 25,
     "metadata": {},
     "output_type": "execute_result"
    }
   ],
   "source": [
    "nums[0:100:10]"
   ]
  },
  {
   "cell_type": "code",
   "execution_count": 26,
   "id": "1b81f3ea",
   "metadata": {
    "ExecuteTime": {
     "end_time": "2024-01-22T16:48:10.888440Z",
     "start_time": "2024-01-22T16:48:10.884377Z"
    }
   },
   "outputs": [
    {
     "data": {
      "text/plain": [
       "[90, 91, 92, 93, 94, 95, 96, 97, 98, 99]"
      ]
     },
     "execution_count": 26,
     "metadata": {},
     "output_type": "execute_result"
    }
   ],
   "source": [
    "nums[90:]"
   ]
  },
  {
   "cell_type": "code",
   "execution_count": 27,
   "id": "03cc9263",
   "metadata": {
    "ExecuteTime": {
     "end_time": "2024-01-22T16:48:41.336436Z",
     "start_time": "2024-01-22T16:48:41.332250Z"
    }
   },
   "outputs": [
    {
     "data": {
      "text/plain": [
       "[0, 1, 2, 3, 4, 5, 6, 7, 8, 9, 10, 11, 12, 13, 14, 15, 16, 17, 18, 19]"
      ]
     },
     "execution_count": 27,
     "metadata": {},
     "output_type": "execute_result"
    }
   ],
   "source": [
    "nums[:20]"
   ]
  },
  {
   "cell_type": "code",
   "execution_count": 28,
   "id": "32d61426",
   "metadata": {
    "ExecuteTime": {
     "end_time": "2024-01-22T16:49:03.592365Z",
     "start_time": "2024-01-22T16:49:03.588630Z"
    }
   },
   "outputs": [
    {
     "data": {
      "text/plain": [
       "[0, 25, 50, 75]"
      ]
     },
     "execution_count": 28,
     "metadata": {},
     "output_type": "execute_result"
    }
   ],
   "source": [
    "nums[::25]"
   ]
  },
  {
   "cell_type": "code",
   "execution_count": 29,
   "id": "3aca8011",
   "metadata": {
    "ExecuteTime": {
     "end_time": "2024-01-22T16:49:42.491847Z",
     "start_time": "2024-01-22T16:49:42.487917Z"
    }
   },
   "outputs": [
    {
     "data": {
      "text/plain": [
       "[80, 85, 90, 95]"
      ]
     },
     "execution_count": 29,
     "metadata": {},
     "output_type": "execute_result"
    }
   ],
   "source": [
    "nums[80::5]"
   ]
  },
  {
   "cell_type": "code",
   "execution_count": 30,
   "id": "56b51332",
   "metadata": {
    "ExecuteTime": {
     "end_time": "2024-01-22T16:50:51.587928Z",
     "start_time": "2024-01-22T16:50:51.584622Z"
    }
   },
   "outputs": [
    {
     "data": {
      "text/plain": [
       "[99, 89, 79, 69, 59, 49, 39, 29, 19, 9]"
      ]
     },
     "execution_count": 30,
     "metadata": {},
     "output_type": "execute_result"
    }
   ],
   "source": [
    "nums[::-10]"
   ]
  },
  {
   "cell_type": "code",
   "execution_count": 31,
   "id": "84c9beca",
   "metadata": {
    "ExecuteTime": {
     "end_time": "2024-01-22T16:52:24.907496Z",
     "start_time": "2024-01-22T16:52:24.903118Z"
    }
   },
   "outputs": [
    {
     "data": {
      "text/plain": [
       "[20, 19, 18, 17, 16, 15, 14, 13, 12, 11]"
      ]
     },
     "execution_count": 31,
     "metadata": {},
     "output_type": "execute_result"
    }
   ],
   "source": [
    "nums[20:10:-1]"
   ]
  },
  {
   "cell_type": "code",
   "execution_count": 32,
   "id": "7a80dfa3",
   "metadata": {
    "ExecuteTime": {
     "end_time": "2024-01-22T17:15:20.251253Z",
     "start_time": "2024-01-22T17:15:20.237137Z"
    }
   },
   "outputs": [],
   "source": [
    "# --------------------------------------------------------------------------------- #"
   ]
  },
  {
   "cell_type": "code",
   "execution_count": 33,
   "id": "4b2c5ab7",
   "metadata": {
    "ExecuteTime": {
     "end_time": "2024-01-22T17:15:37.352632Z",
     "start_time": "2024-01-22T17:15:37.349868Z"
    }
   },
   "outputs": [],
   "source": [
    "# ------------------------------LIST SPLICING--------------------------------------------------"
   ]
  },
  {
   "cell_type": "code",
   "execution_count": 34,
   "id": "521d167b",
   "metadata": {
    "ExecuteTime": {
     "end_time": "2024-01-22T17:17:38.034894Z",
     "start_time": "2024-01-22T17:17:38.030086Z"
    }
   },
   "outputs": [
    {
     "data": {
      "text/plain": [
       "['dark red', 'pink', 'orange', 'yellow']"
      ]
     },
     "execution_count": 34,
     "metadata": {},
     "output_type": "execute_result"
    }
   ],
   "source": [
    "colors = ['red', 'orange', 'yellow']\n",
    "colors[0:1] = ['dark red', 'pink']\n",
    "colors"
   ]
  },
  {
   "cell_type": "code",
   "execution_count": 35,
   "id": "e2a08f08",
   "metadata": {
    "ExecuteTime": {
     "end_time": "2024-01-22T17:18:59.708431Z",
     "start_time": "2024-01-22T17:18:59.700807Z"
    }
   },
   "outputs": [
    {
     "data": {
      "text/plain": [
       "['dark red', 'pink', 'orange', 'dark yellow', 'green', 'blue', 'purple']"
      ]
     },
     "execution_count": 35,
     "metadata": {},
     "output_type": "execute_result"
    }
   ],
   "source": [
    "colors[3:] = ['dark yellow', 'green', 'blue', 'purple']\n",
    "colors"
   ]
  },
  {
   "cell_type": "code",
   "execution_count": 36,
   "id": "3632438b",
   "metadata": {
    "ExecuteTime": {
     "end_time": "2024-01-22T17:20:29.859247Z",
     "start_time": "2024-01-22T17:20:29.854498Z"
    }
   },
   "outputs": [
    {
     "data": {
      "text/plain": [
       "['dark red', 'pink', 'orange', 'dark yellow', 'green']"
      ]
     },
     "execution_count": 36,
     "metadata": {},
     "output_type": "execute_result"
    }
   ],
   "source": [
    "colors[5:] = []\n",
    "colors"
   ]
  },
  {
   "cell_type": "code",
   "execution_count": 37,
   "id": "df861c63",
   "metadata": {
    "ExecuteTime": {
     "end_time": "2024-01-22T17:23:15.469182Z",
     "start_time": "2024-01-22T17:23:15.466748Z"
    }
   },
   "outputs": [],
   "source": [
    "# --------------------------------------------------------------------------------- #"
   ]
  },
  {
   "cell_type": "code",
   "execution_count": 38,
   "id": "29c59a77",
   "metadata": {
    "ExecuteTime": {
     "end_time": "2024-01-22T17:23:44.792869Z",
     "start_time": "2024-01-22T17:23:44.790527Z"
    }
   },
   "outputs": [],
   "source": [
    "# ------------------------------LIST METHODS--------------------------------------------------"
   ]
  },
  {
   "cell_type": "code",
   "execution_count": 39,
   "id": "297ca64c",
   "metadata": {
    "ExecuteTime": {
     "end_time": "2024-01-22T17:27:19.201887Z",
     "start_time": "2024-01-22T17:27:19.197464Z"
    }
   },
   "outputs": [
    {
     "data": {
      "text/plain": [
       "['Michael Scott',\n",
       " 'Dwight Schrute',\n",
       " 'Jim Halpert',\n",
       " 'Pam Beasley',\n",
       " 'Stanley Hudson']"
      ]
     },
     "execution_count": 39,
     "metadata": {},
     "output_type": "execute_result"
    }
   ],
   "source": [
    "# append\n",
    "office_peeps.append('Stanley Hudson')\n",
    "office_peeps"
   ]
  },
  {
   "cell_type": "code",
   "execution_count": 40,
   "id": "fe42d050",
   "metadata": {
    "ExecuteTime": {
     "end_time": "2024-01-22T17:30:23.573366Z",
     "start_time": "2024-01-22T17:30:23.571265Z"
    }
   },
   "outputs": [],
   "source": [
    "# copy\n",
    "# makes a shallow copy"
   ]
  },
  {
   "cell_type": "code",
   "execution_count": 41,
   "id": "00430155",
   "metadata": {
    "ExecuteTime": {
     "end_time": "2024-01-22T17:30:59.815964Z",
     "start_time": "2024-01-22T17:30:59.811776Z"
    }
   },
   "outputs": [
    {
     "data": {
      "text/plain": [
       "0"
      ]
     },
     "execution_count": 41,
     "metadata": {},
     "output_type": "execute_result"
    }
   ],
   "source": [
    "# count\n",
    "office_peeps.count('michael scott')"
   ]
  },
  {
   "cell_type": "code",
   "execution_count": 42,
   "id": "d76d3394",
   "metadata": {
    "ExecuteTime": {
     "end_time": "2024-01-22T17:31:24.292233Z",
     "start_time": "2024-01-22T17:31:24.288418Z"
    }
   },
   "outputs": [
    {
     "data": {
      "text/plain": [
       "1"
      ]
     },
     "execution_count": 42,
     "metadata": {},
     "output_type": "execute_result"
    }
   ],
   "source": [
    "office_peeps.count('Michael Scott')"
   ]
  },
  {
   "cell_type": "code",
   "execution_count": 43,
   "id": "babdbfc7",
   "metadata": {
    "ExecuteTime": {
     "end_time": "2024-01-22T17:34:41.786258Z",
     "start_time": "2024-01-22T17:34:41.782221Z"
    }
   },
   "outputs": [
    {
     "data": {
      "text/plain": [
       "['Michael Scott',\n",
       " 'Dwight Schrute',\n",
       " 'Jim Halpert',\n",
       " 'Pam Beasley',\n",
       " 'Stanley Hudson',\n",
       " 'Oscar Martinez',\n",
       " 'Kevin Malone',\n",
       " 'Angela Martin']"
      ]
     },
     "execution_count": 43,
     "metadata": {},
     "output_type": "execute_result"
    }
   ],
   "source": [
    "# extend\n",
    "accounting_peeps = ['Oscar Martinez', 'Kevin Malone', 'Angela Martin']\n",
    "office_peeps.extend(accounting_peeps)\n",
    "office_peeps"
   ]
  },
  {
   "cell_type": "code",
   "execution_count": 44,
   "id": "75ed60a0",
   "metadata": {
    "ExecuteTime": {
     "end_time": "2024-01-22T17:36:23.187178Z",
     "start_time": "2024-01-22T17:36:23.183743Z"
    }
   },
   "outputs": [
    {
     "data": {
      "text/plain": [
       "3"
      ]
     },
     "execution_count": 44,
     "metadata": {},
     "output_type": "execute_result"
    }
   ],
   "source": [
    "# index\n",
    "office_peeps.index('Pam Beasley')"
   ]
  },
  {
   "cell_type": "code",
   "execution_count": 45,
   "id": "4e28ae4e",
   "metadata": {
    "ExecuteTime": {
     "end_time": "2024-01-22T17:39:08.902681Z",
     "start_time": "2024-01-22T17:39:08.898695Z"
    }
   },
   "outputs": [
    {
     "data": {
      "text/plain": [
       "['Jan Levinson',\n",
       " 'Michael Scott',\n",
       " 'Dwight Schrute',\n",
       " 'Jim Halpert',\n",
       " 'Pam Beasley',\n",
       " 'Stanley Hudson',\n",
       " 'Oscar Martinez',\n",
       " 'Kevin Malone',\n",
       " 'Angela Martin']"
      ]
     },
     "execution_count": 45,
     "metadata": {},
     "output_type": "execute_result"
    }
   ],
   "source": [
    "# insert\n",
    "office_peeps.insert(0, 'Jan Levinson')\n",
    "office_peeps"
   ]
  },
  {
   "cell_type": "code",
   "execution_count": 46,
   "id": "c36fd9de",
   "metadata": {
    "ExecuteTime": {
     "end_time": "2024-01-22T17:41:14.719600Z",
     "start_time": "2024-01-22T17:41:14.715613Z"
    }
   },
   "outputs": [
    {
     "data": {
      "text/plain": [
       "['Jan Levinson',\n",
       " 'Michael Scott',\n",
       " 'Dwight Schrute',\n",
       " 'Jim Halpert',\n",
       " 'Pam Beasley',\n",
       " 'Phyllis Lapin-Vance',\n",
       " 'Stanley Hudson',\n",
       " 'Oscar Martinez',\n",
       " 'Kevin Malone',\n",
       " 'Angela Martin']"
      ]
     },
     "execution_count": 46,
     "metadata": {},
     "output_type": "execute_result"
    }
   ],
   "source": [
    "office_peeps.insert(5, 'Phyllis Lapin-Vance')\n",
    "office_peeps"
   ]
  },
  {
   "cell_type": "code",
   "execution_count": 47,
   "id": "f73062e9",
   "metadata": {
    "ExecuteTime": {
     "end_time": "2024-01-22T17:43:04.221470Z",
     "start_time": "2024-01-22T17:43:04.218202Z"
    }
   },
   "outputs": [
    {
     "data": {
      "text/plain": [
       "['Michael Scott',\n",
       " 'Dwight Schrute',\n",
       " 'Jim Halpert',\n",
       " 'Pam Beasley',\n",
       " 'Phyllis Lapin-Vance',\n",
       " 'Stanley Hudson',\n",
       " 'Oscar Martinez',\n",
       " 'Kevin Malone',\n",
       " 'Angela Martin']"
      ]
     },
     "execution_count": 47,
     "metadata": {},
     "output_type": "execute_result"
    }
   ],
   "source": [
    "# pop\n",
    "office_peeps.pop(0)\n",
    "office_peeps"
   ]
  },
  {
   "cell_type": "code",
   "execution_count": 48,
   "id": "def5e0ab",
   "metadata": {
    "ExecuteTime": {
     "end_time": "2024-01-22T17:43:50.776474Z",
     "start_time": "2024-01-22T17:43:50.772676Z"
    }
   },
   "outputs": [
    {
     "data": {
      "text/plain": [
       "['Angela Martin',\n",
       " 'Kevin Malone',\n",
       " 'Oscar Martinez',\n",
       " 'Stanley Hudson',\n",
       " 'Phyllis Lapin-Vance',\n",
       " 'Pam Beasley',\n",
       " 'Jim Halpert',\n",
       " 'Dwight Schrute',\n",
       " 'Michael Scott']"
      ]
     },
     "execution_count": 48,
     "metadata": {},
     "output_type": "execute_result"
    }
   ],
   "source": [
    "# reverse\n",
    "office_peeps.reverse()\n",
    "office_peeps"
   ]
  },
  {
   "cell_type": "code",
   "execution_count": 50,
   "id": "a60cc642",
   "metadata": {
    "ExecuteTime": {
     "end_time": "2024-01-22T17:45:37.112854Z",
     "start_time": "2024-01-22T17:45:37.109396Z"
    }
   },
   "outputs": [
    {
     "data": {
      "text/plain": [
       "['Angela Martin',\n",
       " 'Dwight Schrute',\n",
       " 'Jim Halpert',\n",
       " 'Kevin Malone',\n",
       " 'Michael Scott',\n",
       " 'Oscar Martinez',\n",
       " 'Pam Beasley',\n",
       " 'Phyllis Lapin-Vance',\n",
       " 'Stanley Hudson']"
      ]
     },
     "execution_count": 50,
     "metadata": {},
     "output_type": "execute_result"
    }
   ],
   "source": [
    "# sort\n",
    "office_peeps.sort() #it will return alphabetically\n",
    "office_peeps"
   ]
  },
  {
   "cell_type": "code",
   "execution_count": 51,
   "id": "a2483776",
   "metadata": {
    "ExecuteTime": {
     "end_time": "2024-01-22T17:46:45.329160Z",
     "start_time": "2024-01-22T17:46:45.323783Z"
    }
   },
   "outputs": [
    {
     "data": {
      "text/plain": [
       "[-99, -1, 0, 1, 12, 33, 45, 62, 1234]"
      ]
     },
     "execution_count": 51,
     "metadata": {},
     "output_type": "execute_result"
    }
   ],
   "source": [
    "nums = [45,62,33,12,-1,1,-99,0,1234]\n",
    "nums.sort()\n",
    "nums"
   ]
  },
  {
   "cell_type": "code",
   "execution_count": 52,
   "id": "93da7bce",
   "metadata": {
    "ExecuteTime": {
     "end_time": "2024-01-22T17:47:33.318889Z",
     "start_time": "2024-01-22T17:47:33.315126Z"
    }
   },
   "outputs": [
    {
     "data": {
      "text/plain": [
       "[1234, 62, 45, 33, 12, 1, 0, -1, -99]"
      ]
     },
     "execution_count": 52,
     "metadata": {},
     "output_type": "execute_result"
    }
   ],
   "source": [
    "nums.sort(reverse=True)\n",
    "nums"
   ]
  },
  {
   "cell_type": "code",
   "execution_count": 53,
   "id": "621a0166",
   "metadata": {
    "ExecuteTime": {
     "end_time": "2024-01-22T17:53:58.558360Z",
     "start_time": "2024-01-22T17:53:58.556125Z"
    }
   },
   "outputs": [],
   "source": [
    "# --------------------------------------------------------------------------------- #"
   ]
  },
  {
   "cell_type": "code",
   "execution_count": 54,
   "id": "7066c031",
   "metadata": {
    "ExecuteTime": {
     "end_time": "2024-01-22T17:54:27.476500Z",
     "start_time": "2024-01-22T17:54:27.474482Z"
    }
   },
   "outputs": [],
   "source": [
    "# ------------------------------STRINGS (CONT'D)--------------------------------------------------"
   ]
  },
  {
   "cell_type": "code",
   "execution_count": 55,
   "id": "f2c2caa4",
   "metadata": {
    "ExecuteTime": {
     "end_time": "2024-01-22T17:57:12.710095Z",
     "start_time": "2024-01-22T17:57:12.705940Z"
    }
   },
   "outputs": [
    {
     "data": {
      "text/plain": [
       "\"['Angela Martin', 'Dwight Schrute', 'Jim Halpert', 'Kevin Malone', 'Michael Scott', 'Oscar Martinez', 'Pam Beasley', 'Phyllis Lapin-Vance', 'Stanley Hudson']\""
      ]
     },
     "execution_count": 55,
     "metadata": {},
     "output_type": "execute_result"
    }
   ],
   "source": [
    "str(office_peeps)"
   ]
  },
  {
   "cell_type": "code",
   "execution_count": 56,
   "id": "1b1ab42f",
   "metadata": {
    "ExecuteTime": {
     "end_time": "2024-01-22T17:57:57.243428Z",
     "start_time": "2024-01-22T17:57:57.239917Z"
    }
   },
   "outputs": [
    {
     "data": {
      "text/plain": [
       "False"
      ]
     },
     "execution_count": 56,
     "metadata": {},
     "output_type": "execute_result"
    }
   ],
   "source": [
    "'Jan Levinson' in office_peeps"
   ]
  },
  {
   "cell_type": "code",
   "execution_count": 57,
   "id": "7cbd0c02",
   "metadata": {
    "ExecuteTime": {
     "end_time": "2024-01-22T18:00:14.570392Z",
     "start_time": "2024-01-22T18:00:14.566899Z"
    }
   },
   "outputs": [
    {
     "data": {
      "text/plain": [
       "'hcehlilcok!e!n'"
      ]
     },
     "execution_count": 57,
     "metadata": {},
     "output_type": "execute_result"
    }
   ],
   "source": [
    "msg = 'hcehlilcok!e!n'\n",
    "msg"
   ]
  },
  {
   "cell_type": "code",
   "execution_count": 58,
   "id": "59782ff3",
   "metadata": {
    "ExecuteTime": {
     "end_time": "2024-01-22T18:00:25.800738Z",
     "start_time": "2024-01-22T18:00:25.797189Z"
    }
   },
   "outputs": [
    {
     "data": {
      "text/plain": [
       "14"
      ]
     },
     "execution_count": 58,
     "metadata": {},
     "output_type": "execute_result"
    }
   ],
   "source": [
    "len(msg)"
   ]
  },
  {
   "cell_type": "code",
   "execution_count": 59,
   "id": "075e75d2",
   "metadata": {
    "ExecuteTime": {
     "end_time": "2024-01-22T18:01:25.182034Z",
     "start_time": "2024-01-22T18:01:25.178247Z"
    }
   },
   "outputs": [
    {
     "data": {
      "text/plain": [
       "'hello!!'"
      ]
     },
     "execution_count": 59,
     "metadata": {},
     "output_type": "execute_result"
    }
   ],
   "source": [
    "msg[::2]"
   ]
  },
  {
   "cell_type": "code",
   "execution_count": 60,
   "id": "9e07351b",
   "metadata": {
    "ExecuteTime": {
     "end_time": "2024-01-22T18:01:57.459296Z",
     "start_time": "2024-01-22T18:01:57.455400Z"
    }
   },
   "outputs": [
    {
     "data": {
      "text/plain": [
       "'chicken'"
      ]
     },
     "execution_count": 60,
     "metadata": {},
     "output_type": "execute_result"
    }
   ],
   "source": [
    "msg[1::2]"
   ]
  },
  {
   "cell_type": "code",
   "execution_count": 61,
   "id": "0bd8fa31",
   "metadata": {
    "ExecuteTime": {
     "end_time": "2024-01-22T18:03:19.522349Z",
     "start_time": "2024-01-22T18:03:19.520163Z"
    }
   },
   "outputs": [],
   "source": [
    "# --------------------------------------------------------------------------------- #"
   ]
  },
  {
   "cell_type": "code",
   "execution_count": 62,
   "id": "cc7ab89d",
   "metadata": {
    "ExecuteTime": {
     "end_time": "2024-01-22T18:03:44.534920Z",
     "start_time": "2024-01-22T18:03:44.532771Z"
    }
   },
   "outputs": [],
   "source": [
    "# ------------------------------STRINGS METHODS--------------------------------------------------"
   ]
  },
  {
   "cell_type": "code",
   "execution_count": 63,
   "id": "c8cfa80e",
   "metadata": {
    "ExecuteTime": {
     "end_time": "2024-01-22T18:30:26.870548Z",
     "start_time": "2024-01-22T18:30:26.864177Z"
    }
   },
   "outputs": [
    {
     "data": {
      "text/plain": [
       "2"
      ]
     },
     "execution_count": 63,
     "metadata": {},
     "output_type": "execute_result"
    }
   ],
   "source": [
    "# count\n",
    "msg.count('h')"
   ]
  },
  {
   "cell_type": "code",
   "execution_count": 64,
   "id": "fa3bd962",
   "metadata": {
    "ExecuteTime": {
     "end_time": "2024-01-22T18:30:40.041110Z",
     "start_time": "2024-01-22T18:30:40.037822Z"
    }
   },
   "outputs": [
    {
     "data": {
      "text/plain": [
       "0"
      ]
     },
     "execution_count": 64,
     "metadata": {},
     "output_type": "execute_result"
    }
   ],
   "source": [
    "msg.count('H')"
   ]
  },
  {
   "cell_type": "code",
   "execution_count": 65,
   "id": "d33f09b7",
   "metadata": {
    "ExecuteTime": {
     "end_time": "2024-01-22T18:31:09.147519Z",
     "start_time": "2024-01-22T18:31:09.142977Z"
    }
   },
   "outputs": [
    {
     "data": {
      "text/plain": [
       "True"
      ]
     },
     "execution_count": 65,
     "metadata": {},
     "output_type": "execute_result"
    }
   ],
   "source": [
    "# endswith\n",
    "msg.endswith('n')"
   ]
  },
  {
   "cell_type": "code",
   "execution_count": 66,
   "id": "3c33bc5a",
   "metadata": {
    "ExecuteTime": {
     "end_time": "2024-01-22T18:32:16.511991Z",
     "start_time": "2024-01-22T18:32:16.507882Z"
    }
   },
   "outputs": [
    {
     "data": {
      "text/plain": [
       "False"
      ]
     },
     "execution_count": 66,
     "metadata": {},
     "output_type": "execute_result"
    }
   ],
   "source": [
    "# startswith\n",
    "str(office_peeps).startswith('Angela Martin')"
   ]
  },
  {
   "cell_type": "code",
   "execution_count": 68,
   "id": "eb407136",
   "metadata": {
    "ExecuteTime": {
     "end_time": "2024-01-22T18:33:15.458758Z",
     "start_time": "2024-01-22T18:33:15.453567Z"
    }
   },
   "outputs": [
    {
     "data": {
      "text/plain": [
       "\"['Angela Martin', 'Dwight Schrute', 'Jim Halpert', 'Kevin Malone', 'Michael Scott', 'Oscar Martinez', 'Pam Beasley', 'Phyllis Lapin-Vance', 'Stanley Hudson']\""
      ]
     },
     "execution_count": 68,
     "metadata": {},
     "output_type": "execute_result"
    }
   ],
   "source": [
    "office_peeps_string = str(office_peeps)\n",
    "office_peeps_string"
   ]
  },
  {
   "cell_type": "code",
   "execution_count": 72,
   "id": "ba159386",
   "metadata": {
    "ExecuteTime": {
     "end_time": "2024-01-22T18:34:31.255193Z",
     "start_time": "2024-01-22T18:34:31.251310Z"
    }
   },
   "outputs": [
    {
     "data": {
      "text/plain": [
       "True"
      ]
     },
     "execution_count": 72,
     "metadata": {},
     "output_type": "execute_result"
    }
   ],
   "source": [
    "office_peeps_string.startswith('')"
   ]
  },
  {
   "cell_type": "code",
   "execution_count": 73,
   "id": "7175ebc6",
   "metadata": {
    "ExecuteTime": {
     "end_time": "2024-01-22T18:35:33.534241Z",
     "start_time": "2024-01-22T18:35:33.530575Z"
    }
   },
   "outputs": [
    {
     "data": {
      "text/plain": [
       "10"
      ]
     },
     "execution_count": 73,
     "metadata": {},
     "output_type": "execute_result"
    }
   ],
   "source": [
    "# find\n",
    "msg.find('!')"
   ]
  },
  {
   "cell_type": "code",
   "execution_count": 75,
   "id": "474a5592",
   "metadata": {
    "ExecuteTime": {
     "end_time": "2024-01-22T18:37:29.864930Z",
     "start_time": "2024-01-22T18:37:29.861851Z"
    }
   },
   "outputs": [
    {
     "data": {
      "text/plain": [
       "-1"
      ]
     },
     "execution_count": 75,
     "metadata": {},
     "output_type": "execute_result"
    }
   ],
   "source": [
    "office_peeps_string.find('Toby Flenderson')"
   ]
  },
  {
   "cell_type": "code",
   "execution_count": 76,
   "id": "f63aae5f",
   "metadata": {
    "ExecuteTime": {
     "end_time": "2024-01-22T18:38:14.212640Z",
     "start_time": "2024-01-22T18:38:14.209206Z"
    }
   },
   "outputs": [
    {
     "data": {
      "text/plain": [
       "False"
      ]
     },
     "execution_count": 76,
     "metadata": {},
     "output_type": "execute_result"
    }
   ],
   "source": [
    "# isdigit\n",
    "'hello4'.isdigit()"
   ]
  },
  {
   "cell_type": "code",
   "execution_count": 77,
   "id": "417c5201",
   "metadata": {
    "ExecuteTime": {
     "end_time": "2024-01-22T18:39:38.653911Z",
     "start_time": "2024-01-22T18:39:38.648929Z"
    }
   },
   "outputs": [
    {
     "data": {
      "text/plain": [
       "\"[|'|A|n|g|e|l|a| |M|a|r|t|i|n|'|,| |'|D|w|i|g|h|t| |S|c|h|r|u|t|e|'|,| |'|J|i|m| |H|a|l|p|e|r|t|'|,| |'|K|e|v|i|n| |M|a|l|o|n|e|'|,| |'|M|i|c|h|a|e|l| |S|c|o|t|t|'|,| |'|O|s|c|a|r| |M|a|r|t|i|n|e|z|'|,| |'|P|a|m| |B|e|a|s|l|e|y|'|,| |'|P|h|y|l|l|i|s| |L|a|p|i|n|-|V|a|n|c|e|'|,| |'|S|t|a|n|l|e|y| |H|u|d|s|o|n|'|]\""
      ]
     },
     "execution_count": 77,
     "metadata": {},
     "output_type": "execute_result"
    }
   ],
   "source": [
    "# join\n",
    "'|'.join(office_peeps_string)"
   ]
  },
  {
   "cell_type": "code",
   "execution_count": 84,
   "id": "7750eee0",
   "metadata": {
    "ExecuteTime": {
     "end_time": "2024-01-22T18:42:45.718001Z",
     "start_time": "2024-01-22T18:42:45.713936Z"
    }
   },
   "outputs": [
    {
     "data": {
      "text/plain": [
       "'H><C><E><H><L><I><L><C><O><K><!><E><!><N'"
      ]
     },
     "execution_count": 84,
     "metadata": {},
     "output_type": "execute_result"
    }
   ],
   "source": [
    "'><'.join(msg).upper()"
   ]
  },
  {
   "cell_type": "code",
   "execution_count": 83,
   "id": "08acf9a0",
   "metadata": {
    "ExecuteTime": {
     "end_time": "2024-01-22T18:42:25.546399Z",
     "start_time": "2024-01-22T18:42:25.542357Z"
    }
   },
   "outputs": [
    {
     "data": {
      "text/plain": [
       "'S-*-U-*-P-*-D-*-O-*-G'"
      ]
     },
     "execution_count": 83,
     "metadata": {},
     "output_type": "execute_result"
    }
   ],
   "source": [
    "'-*-'.join('SupDog').upper()"
   ]
  },
  {
   "cell_type": "code",
   "execution_count": 86,
   "id": "bdb33c57",
   "metadata": {
    "ExecuteTime": {
     "end_time": "2024-01-22T18:46:50.411575Z",
     "start_time": "2024-01-22T18:46:50.407901Z"
    }
   },
   "outputs": [
    {
     "data": {
      "text/plain": [
       "'apples=tomatoes=pickles'"
      ]
     },
     "execution_count": 86,
     "metadata": {},
     "output_type": "execute_result"
    }
   ],
   "source": [
    "# replace\n",
    "things = 'apples-tomatoes-pickles'\n",
    "things.replace('-', '=')"
   ]
  },
  {
   "cell_type": "code",
   "execution_count": 87,
   "id": "06006ab2",
   "metadata": {
    "ExecuteTime": {
     "end_time": "2024-01-22T18:49:42.069231Z",
     "start_time": "2024-01-22T18:49:42.065434Z"
    }
   },
   "outputs": [
    {
     "data": {
      "text/plain": [
       "[\"['Angela Martin'\",\n",
       " \" 'Dwight Schrute'\",\n",
       " \" 'Jim Halpert'\",\n",
       " \" 'Kevin Malone'\",\n",
       " \" 'Michael Scott'\",\n",
       " \" 'Oscar Martinez'\",\n",
       " \" 'Pam Beasley'\",\n",
       " \" 'Phyllis Lapin-Vance'\",\n",
       " \" 'Stanley Hudson']\"]"
      ]
     },
     "execution_count": 87,
     "metadata": {},
     "output_type": "execute_result"
    }
   ],
   "source": [
    "# split\n",
    "office_peeps_string.split(',')"
   ]
  },
  {
   "cell_type": "code",
   "execution_count": null,
   "id": "ce5829d3",
   "metadata": {},
   "outputs": [],
   "source": []
  }
 ],
 "metadata": {
  "kernelspec": {
   "display_name": "Python 3 (ipykernel)",
   "language": "python",
   "name": "python3"
  },
  "language_info": {
   "codemirror_mode": {
    "name": "ipython",
    "version": 3
   },
   "file_extension": ".py",
   "mimetype": "text/x-python",
   "name": "python",
   "nbconvert_exporter": "python",
   "pygments_lexer": "ipython3",
   "version": "3.11.5"
  },
  "varInspector": {
   "cols": {
    "lenName": 16,
    "lenType": 16,
    "lenVar": 40
   },
   "kernels_config": {
    "python": {
     "delete_cmd_postfix": "",
     "delete_cmd_prefix": "del ",
     "library": "var_list.py",
     "varRefreshCmd": "print(var_dic_list())"
    },
    "r": {
     "delete_cmd_postfix": ") ",
     "delete_cmd_prefix": "rm(",
     "library": "var_list.r",
     "varRefreshCmd": "cat(var_dic_list()) "
    }
   },
   "types_to_exclude": [
    "module",
    "function",
    "builtin_function_or_method",
    "instance",
    "_Feature"
   ],
   "window_display": false
  }
 },
 "nbformat": 4,
 "nbformat_minor": 5
}
