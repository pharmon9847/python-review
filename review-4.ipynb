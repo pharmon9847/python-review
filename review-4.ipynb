{
 "cells": [
  {
   "cell_type": "code",
   "execution_count": 14,
   "id": "4115cb58",
   "metadata": {
    "ExecuteTime": {
     "end_time": "2024-01-22T19:03:56.673098Z",
     "start_time": "2024-01-22T19:03:56.670666Z"
    }
   },
   "outputs": [],
   "source": [
    "# --------------------------------------------------------------------------------- #"
   ]
  },
  {
   "cell_type": "code",
   "execution_count": 15,
   "id": "51f68113",
   "metadata": {
    "ExecuteTime": {
     "end_time": "2024-01-22T19:03:57.288875Z",
     "start_time": "2024-01-22T19:03:57.286392Z"
    }
   },
   "outputs": [],
   "source": [
    "# ------------------------------DICTIONARIES--------------------------------------------------"
   ]
  },
  {
   "cell_type": "code",
   "execution_count": 16,
   "id": "a7c04c80",
   "metadata": {
    "ExecuteTime": {
     "end_time": "2024-01-22T19:03:57.960872Z",
     "start_time": "2024-01-22T19:03:57.957881Z"
    }
   },
   "outputs": [],
   "source": [
    "office_peeps = {\n",
    "    'regional_manager': 'Michael Scott',\n",
    "     'assistant_to_regional_manager': 'Dwight Schrute',\n",
    "     'salesman-1': 'Jim Halpert',\n",
    "     'recptionist': 'Pam Beasley',\n",
    "     'salesman-2': 'Stanley Hudson',\n",
    "     'accountant-1':'Oscar Martinez',\n",
    "     'accountant-2': 'Kevin Malone',\n",
    "     'accountant-3': 'Angela Martin'\n",
    "               }"
   ]
  },
  {
   "cell_type": "code",
   "execution_count": 17,
   "id": "fd2e74d1",
   "metadata": {
    "ExecuteTime": {
     "end_time": "2024-01-22T19:03:58.578942Z",
     "start_time": "2024-01-22T19:03:58.574478Z"
    }
   },
   "outputs": [
    {
     "data": {
      "text/plain": [
       "{'regional_manager': 'Michael Scott',\n",
       " 'assistant_to_regional_manager': 'Dwight Schrute',\n",
       " 'salesman-1': 'Jim Halpert',\n",
       " 'recptionist': 'Pam Beasley',\n",
       " 'salesman-2': 'Stanley Hudson',\n",
       " 'accountant-1': 'Oscar Martinez',\n",
       " 'accountant-2': 'Kevin Malone',\n",
       " 'accountant-3': 'Angela Martin'}"
      ]
     },
     "execution_count": 17,
     "metadata": {},
     "output_type": "execute_result"
    }
   ],
   "source": [
    "office_peeps"
   ]
  },
  {
   "cell_type": "code",
   "execution_count": 18,
   "id": "25a34c25",
   "metadata": {
    "ExecuteTime": {
     "end_time": "2024-01-22T19:06:12.972445Z",
     "start_time": "2024-01-22T19:06:12.968226Z"
    }
   },
   "outputs": [
    {
     "data": {
      "text/plain": [
       "{'father': 'Philip Harmon',\n",
       " 'mother': 'Jessica Culpepper',\n",
       " 'first-born': 'Wyatt Harmon',\n",
       " 'second-born': 'Pepper Harmon',\n",
       " 'third-born': 'Briar Harmon'}"
      ]
     },
     "execution_count": 18,
     "metadata": {},
     "output_type": "execute_result"
    }
   ],
   "source": [
    "harmon_family = {\n",
    "    'father': 'Philip Harmon',\n",
    "    'mother': 'Jessica Culpepper',\n",
    "    'first-born': 'Wyatt Harmon',\n",
    "    'second-born': 'Pepper Harmon',\n",
    "    'third-born': 'Briar Harmon'\n",
    "}\n",
    "harmon_family"
   ]
  },
  {
   "cell_type": "code",
   "execution_count": 19,
   "id": "7bdbc4df",
   "metadata": {
    "ExecuteTime": {
     "end_time": "2024-01-22T19:07:42.344639Z",
     "start_time": "2024-01-22T19:07:42.340988Z"
    }
   },
   "outputs": [
    {
     "data": {
      "text/plain": [
       "True"
      ]
     },
     "execution_count": 19,
     "metadata": {},
     "output_type": "execute_result"
    }
   ],
   "source": [
    "'father' in harmon_family"
   ]
  },
  {
   "cell_type": "code",
   "execution_count": 20,
   "id": "c70064d7",
   "metadata": {
    "ExecuteTime": {
     "end_time": "2024-01-22T19:07:52.539394Z",
     "start_time": "2024-01-22T19:07:52.535681Z"
    }
   },
   "outputs": [
    {
     "data": {
      "text/plain": [
       "False"
      ]
     },
     "execution_count": 20,
     "metadata": {},
     "output_type": "execute_result"
    }
   ],
   "source": [
    "'dog' in harmon_family"
   ]
  },
  {
   "cell_type": "code",
   "execution_count": 21,
   "id": "e4a3af55",
   "metadata": {
    "ExecuteTime": {
     "end_time": "2024-01-22T19:08:21.617572Z",
     "start_time": "2024-01-22T19:08:21.613695Z"
    }
   },
   "outputs": [
    {
     "data": {
      "text/plain": [
       "'Philip Harmon'"
      ]
     },
     "execution_count": 21,
     "metadata": {},
     "output_type": "execute_result"
    }
   ],
   "source": [
    "harmon_family['father']"
   ]
  },
  {
   "cell_type": "code",
   "execution_count": 22,
   "id": "756712d6",
   "metadata": {
    "ExecuteTime": {
     "end_time": "2024-01-22T19:08:38.001017Z",
     "start_time": "2024-01-22T19:08:37.997346Z"
    }
   },
   "outputs": [
    {
     "data": {
      "text/plain": [
       "'Jessica Culpepper'"
      ]
     },
     "execution_count": 22,
     "metadata": {},
     "output_type": "execute_result"
    }
   ],
   "source": [
    "harmon_family['mother']"
   ]
  },
  {
   "cell_type": "code",
   "execution_count": 24,
   "id": "a113e222",
   "metadata": {
    "ExecuteTime": {
     "end_time": "2024-01-22T19:11:53.969975Z",
     "start_time": "2024-01-22T19:11:53.965912Z"
    }
   },
   "outputs": [
    {
     "data": {
      "text/plain": [
       "'key not found'"
      ]
     },
     "execution_count": 24,
     "metadata": {},
     "output_type": "execute_result"
    }
   ],
   "source": [
    "harmon_family.get('dog', 'key not found')"
   ]
  },
  {
   "cell_type": "code",
   "execution_count": 25,
   "id": "82c92719",
   "metadata": {
    "ExecuteTime": {
     "end_time": "2024-01-22T19:12:24.132944Z",
     "start_time": "2024-01-22T19:12:24.129307Z"
    }
   },
   "outputs": [
    {
     "data": {
      "text/plain": [
       "'dept. not found'"
      ]
     },
     "execution_count": 25,
     "metadata": {},
     "output_type": "execute_result"
    }
   ],
   "source": [
    "office_peeps.get('hr', 'dept. not found')"
   ]
  },
  {
   "cell_type": "code",
   "execution_count": 26,
   "id": "f24356e0",
   "metadata": {
    "ExecuteTime": {
     "end_time": "2024-01-22T19:13:36.264860Z",
     "start_time": "2024-01-22T19:13:36.262479Z"
    }
   },
   "outputs": [],
   "source": [
    "# --------------------------------------------------------------------------------- #"
   ]
  },
  {
   "cell_type": "code",
   "execution_count": 27,
   "id": "efc72bdd",
   "metadata": {
    "ExecuteTime": {
     "end_time": "2024-01-22T19:13:54.736398Z",
     "start_time": "2024-01-22T19:13:54.733992Z"
    }
   },
   "outputs": [],
   "source": [
    "# ------------------------------ITERATING OVER DICTIONARIES--------------------------------------------------"
   ]
  },
  {
   "cell_type": "code",
   "execution_count": 28,
   "id": "57077d48",
   "metadata": {
    "ExecuteTime": {
     "end_time": "2024-01-22T19:15:20.193586Z",
     "start_time": "2024-01-22T19:15:20.190403Z"
    }
   },
   "outputs": [
    {
     "name": "stdout",
     "output_type": "stream",
     "text": [
      "regional_manager\n",
      "assistant_to_regional_manager\n",
      "salesman-1\n",
      "recptionist\n",
      "salesman-2\n",
      "accountant-1\n",
      "accountant-2\n",
      "accountant-3\n"
     ]
    }
   ],
   "source": [
    "for job in office_peeps.keys():\n",
    "    print(job)"
   ]
  },
  {
   "cell_type": "code",
   "execution_count": 30,
   "id": "fd9a55ee",
   "metadata": {
    "ExecuteTime": {
     "end_time": "2024-01-22T19:16:01.050431Z",
     "start_time": "2024-01-22T19:16:01.047867Z"
    }
   },
   "outputs": [
    {
     "name": "stdout",
     "output_type": "stream",
     "text": [
      "Michael Scott\n",
      "Dwight Schrute\n",
      "Jim Halpert\n",
      "Pam Beasley\n",
      "Stanley Hudson\n",
      "Oscar Martinez\n",
      "Kevin Malone\n",
      "Angela Martin\n"
     ]
    }
   ],
   "source": [
    "for name in office_peeps.values():\n",
    "    print(name)"
   ]
  },
  {
   "cell_type": "code",
   "execution_count": 31,
   "id": "caaf0d4f",
   "metadata": {
    "ExecuteTime": {
     "end_time": "2024-01-22T19:16:39.324461Z",
     "start_time": "2024-01-22T19:16:39.321703Z"
    }
   },
   "outputs": [
    {
     "name": "stdout",
     "output_type": "stream",
     "text": [
      "('regional_manager', 'Michael Scott')\n",
      "('assistant_to_regional_manager', 'Dwight Schrute')\n",
      "('salesman-1', 'Jim Halpert')\n",
      "('recptionist', 'Pam Beasley')\n",
      "('salesman-2', 'Stanley Hudson')\n",
      "('accountant-1', 'Oscar Martinez')\n",
      "('accountant-2', 'Kevin Malone')\n",
      "('accountant-3', 'Angela Martin')\n"
     ]
    }
   ],
   "source": [
    "for job_and_name in office_peeps.items():\n",
    "    print(job_and_name)"
   ]
  },
  {
   "cell_type": "code",
   "execution_count": 34,
   "id": "767b844c",
   "metadata": {
    "ExecuteTime": {
     "end_time": "2024-01-22T19:25:22.412060Z",
     "start_time": "2024-01-22T19:25:22.409363Z"
    }
   },
   "outputs": [
    {
     "name": "stdout",
     "output_type": "stream",
     "text": [
      "Michael Scott <-is-> regional_manager\n",
      "Dwight Schrute <-is-> assistant_to_regional_manager\n",
      "Jim Halpert <-is-> salesman-1\n",
      "Pam Beasley <-is-> recptionist\n",
      "Stanley Hudson <-is-> salesman-2\n",
      "Oscar Martinez <-is-> accountant-1\n",
      "Kevin Malone <-is-> accountant-2\n",
      "Angela Martin <-is-> accountant-3\n"
     ]
    }
   ],
   "source": [
    "for (job, name) in office_peeps.items():\n",
    "    print(name, '<-is->', job)"
   ]
  },
  {
   "cell_type": "code",
   "execution_count": 35,
   "id": "171a3bfc",
   "metadata": {
    "ExecuteTime": {
     "end_time": "2024-01-22T19:31:03.526952Z",
     "start_time": "2024-01-22T19:31:03.512822Z"
    }
   },
   "outputs": [],
   "source": [
    "# --------------------------------------------------------------------------------- #"
   ]
  },
  {
   "cell_type": "code",
   "execution_count": 37,
   "id": "205b53a9",
   "metadata": {
    "ExecuteTime": {
     "end_time": "2024-01-22T19:31:43.581083Z",
     "start_time": "2024-01-22T19:31:43.577982Z"
    }
   },
   "outputs": [],
   "source": [
    "# ------------------------------SETS INTRO--------------------------------------------------"
   ]
  },
  {
   "cell_type": "code",
   "execution_count": 38,
   "id": "e0d3e58d",
   "metadata": {
    "ExecuteTime": {
     "end_time": "2024-01-22T19:38:00.791769Z",
     "start_time": "2024-01-22T19:38:00.773178Z"
    }
   },
   "outputs": [
    {
     "data": {
      "text/plain": [
       "{'blue', 'green', 'orange', 'red'}"
      ]
     },
     "execution_count": 38,
     "metadata": {},
     "output_type": "execute_result"
    }
   ],
   "source": [
    "colors = {'red', 'blue', 'green', 'orange'}\n",
    "colors"
   ]
  },
  {
   "cell_type": "code",
   "execution_count": 39,
   "id": "164721f6",
   "metadata": {
    "ExecuteTime": {
     "end_time": "2024-01-22T19:38:16.491188Z",
     "start_time": "2024-01-22T19:38:16.487660Z"
    }
   },
   "outputs": [
    {
     "data": {
      "text/plain": [
       "set"
      ]
     },
     "execution_count": 39,
     "metadata": {},
     "output_type": "execute_result"
    }
   ],
   "source": [
    "type(colors)"
   ]
  },
  {
   "cell_type": "code",
   "execution_count": null,
   "id": "37e9173d",
   "metadata": {},
   "outputs": [],
   "source": []
  }
 ],
 "metadata": {
  "kernelspec": {
   "display_name": "Python 3 (ipykernel)",
   "language": "python",
   "name": "python3"
  },
  "language_info": {
   "codemirror_mode": {
    "name": "ipython",
    "version": 3
   },
   "file_extension": ".py",
   "mimetype": "text/x-python",
   "name": "python",
   "nbconvert_exporter": "python",
   "pygments_lexer": "ipython3",
   "version": "3.11.5"
  },
  "varInspector": {
   "cols": {
    "lenName": 16,
    "lenType": 16,
    "lenVar": 40
   },
   "kernels_config": {
    "python": {
     "delete_cmd_postfix": "",
     "delete_cmd_prefix": "del ",
     "library": "var_list.py",
     "varRefreshCmd": "print(var_dic_list())"
    },
    "r": {
     "delete_cmd_postfix": ") ",
     "delete_cmd_prefix": "rm(",
     "library": "var_list.r",
     "varRefreshCmd": "cat(var_dic_list()) "
    }
   },
   "types_to_exclude": [
    "module",
    "function",
    "builtin_function_or_method",
    "instance",
    "_Feature"
   ],
   "window_display": false
  }
 },
 "nbformat": 4,
 "nbformat_minor": 5
}
